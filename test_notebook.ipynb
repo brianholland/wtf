{
 "cells": [
  {
   "cell_type": "markdown",
   "metadata": {},
   "source": [
    "# Demonstrating the reusability of [importnb](https://github.com/deathbeds/importnb).\n",
    "\n",
    "* `importnb` imports notebooks as modules\n",
    "* `importnb` allows notebooks to be discovered as tests.\n",
    "\n",
    "    >>> with Notebook(): import test_notebook as nb\n",
    "    >>> assert 'test_function' in dir(nb)\n",
    "    >>> assert nb.notebook_to_df()"
   ]
  },
  {
   "cell_type": "markdown",
   "metadata": {},
   "source": [
    "# This notebooks loads in a directory of notebooks as dataframe."
   ]
  },
  {
   "cell_type": "code",
   "execution_count": 9,
   "metadata": {},
   "outputs": [],
   "source": [
    "    from toolz.curried import *\n",
    "    from toolz.curried.operator import *\n",
    "    from pathlib import Path\n",
    "    from pandas import Series, DataFrame, concat as Concat\n",
    "\n",
    "    ignores = 'checkpoint',\n",
    "\n",
    "    from nbformat.v4 import reads\n",
    "\n",
    "    def notebook_directory_to_df(location=''):\n",
    "        \"\"\"Convert a directory of notebooks in dataframes.\n",
    "\n",
    "        returns a dataframe for the cells and for the metadata.\n",
    "        \"\"\"\n",
    "        cells = metadata = None\n",
    "\n",
    "        suffix = '.ipynb'\n",
    "        recursive = False\n",
    "        for path in getattr(Path(location), 'glob')(f\"*{recursive and 'r' or ''}{suffix}\"):\n",
    "            for ignore in ignores:\n",
    "                if ignore in str(path): continue\n",
    "\n",
    "            nb = pipe(path.read_text(), reads)\n",
    "\n",
    "            s = DataFrame({k: v for k, v in nb.items() if k !='cells'})\n",
    "            s = s.metadata.apply(Series).stack().append(Concat({'nbformat': s.iloc[0][['nbformat', 'nbformat_minor']]}))\n",
    "\n",
    "            if cells is None:\n",
    "                cells = Concat({path: DataFrame(nb['cells'])})\n",
    "                metadata = Concat({path: s})\n",
    "            else:\n",
    "                cells = cells.append(Concat({path: DataFrame(nb['cells'])}))\n",
    "                metadata = metadata.append(Concat({path: s}))\n",
    "        return cells, metadata.unstack([-2, -1])"
   ]
  },
  {
   "cell_type": "markdown",
   "metadata": {},
   "source": [
    "### [Computational Color](http://printingcode.runemadsen.com/lecture-color/)"
   ]
  },
  {
   "cell_type": "code",
   "execution_count": 10,
   "metadata": {},
   "outputs": [],
   "source": [
    "    from importnb import Notebook"
   ]
  },
  {
   "cell_type": "code",
   "execution_count": 11,
   "metadata": {},
   "outputs": [],
   "source": [
    "    __all__ = 'test_function',"
   ]
  },
  {
   "cell_type": "code",
   "execution_count": 12,
   "metadata": {},
   "outputs": [],
   "source": [
    "    from poser import *"
   ]
  },
  {
   "cell_type": "markdown",
   "metadata": {},
   "source": [
    "# ipywidget"
   ]
  },
  {
   "cell_type": "code",
   "execution_count": 13,
   "metadata": {},
   "outputs": [
    {
     "data": {
      "application/vnd.jupyter.widget-view+json": {
       "model_id": "97782eaa741d429b9328e264b96bad22",
       "version_major": 2,
       "version_minor": 0
      },
      "text/plain": [
       "interactive(children=(IntSlider(value=10, description='a', max=30, min=-10), Output()), _dom_classes=('widget-…"
      ]
     },
     "metadata": {},
     "output_type": "display_data"
    }
   ],
   "source": [
    "    @λ.ipywidgets.interact()\n",
    "    def widget_demo(a=10):\n",
    "        ..."
   ]
  },
  {
   "cell_type": "markdown",
   "metadata": {},
   "source": [
    "## pytest will discover `test_function` because it starts with `test_*`"
   ]
  },
  {
   "cell_type": "code",
   "execution_count": 6,
   "metadata": {},
   "outputs": [],
   "source": [
    "    def test_function():\n",
    "        assert True"
   ]
  },
  {
   "cell_type": "markdown",
   "metadata": {},
   "source": [
    "## doctest can test the current notebook state."
   ]
  },
  {
   "cell_type": "code",
   "execution_count": 7,
   "metadata": {},
   "outputs": [],
   "source": [
    "    if __name__ == '__main__':\n",
    "        import doctest\n",
    "        doctest.testmod()"
   ]
  },
  {
   "cell_type": "markdown",
   "metadata": {},
   "source": [
    "## doctest can test the future state of the module."
   ]
  },
  {
   "cell_type": "code",
   "execution_count": 8,
   "metadata": {},
   "outputs": [
    {
     "data": {
      "application/vnd.jupyter.widget-view+json": {
       "model_id": "bd5ba59ff4eb407aad1252b17bc0bda8",
       "version_major": 2,
       "version_minor": 0
      },
      "text/plain": [
       "interactive(children=(IntSlider(value=10, description='a', max=30, min=-10), Output()), _dom_classes=('widget-…"
      ]
     },
     "metadata": {},
     "output_type": "display_data"
    },
    {
     "name": "stdout",
     "output_type": "stream",
     "text": [
      "**********************************************************************\n",
      "File \"/Users/tonyfast/_what_is_a_hypothesis/test_notebook.ipynb\", line 9, in test_notebook\n",
      "Failed example:\n",
      "    assert nb.notebook_to_df()\n",
      "Exception raised:\n",
      "    Traceback (most recent call last):\n",
      "      File \"/Users/tonyfast/anaconda/envs/p6/lib/python3.6/doctest.py\", line 1330, in __run\n",
      "        compileflags, 1), test.globs)\n",
      "      File \"<doctest test_notebook[2]>\", line 1, in <module>\n",
      "        assert nb.notebook_to_df()\n",
      "    AttributeError: module 'test_notebook' has no attribute 'notebook_to_df'\n",
      "**********************************************************************\n",
      "1 items had failures:\n",
      "   1 of   3 in test_notebook\n",
      "***Test Failed*** 1 failures.\n"
     ]
    }
   ],
   "source": [
    "    if __name__ == '__main__':\n",
    "        with Notebook():\n",
    "            import test_notebook as nb\n",
    "            doctest.testmod(nb)"
   ]
  },
  {
   "cell_type": "code",
   "execution_count": null,
   "metadata": {},
   "outputs": [],
   "source": []
  }
 ],
 "metadata": {
  "kernelspec": {
   "display_name": "p6",
   "language": "python",
   "name": "other-env"
  },
  "language_info": {
   "codemirror_mode": {
    "name": "ipython",
    "version": 3
   },
   "file_extension": ".py",
   "mimetype": "text/x-python",
   "name": "python",
   "nbconvert_exporter": "python",
   "pygments_lexer": "ipython3",
   "version": "3.6.3"
  }
 },
 "nbformat": 4,
 "nbformat_minor": 2
}
