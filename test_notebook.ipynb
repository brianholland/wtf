{
 "cells": [
  {
   "cell_type": "markdown",
   "metadata": {},
   "source": [
    "# Demonstrating the reusability of [importnb](https://github.com/deathbeds/importnb).\n",
    "\n",
    "* `importnb` imports notebooks as modules\n",
    "* `importnb` allows notebooks to be discovered as tests.\n",
    "\n",
    "    >>> with Notebook(): import test_notebook as nb\n",
    "    >>> assert 'test_function' in dir(nb)\n",
    "    >>> assert nb.notebook_directory_to_df()"
   ]
  },
  {
   "cell_type": "markdown",
   "metadata": {},
   "source": [
    "# This notebooks loads in a directory of notebooks as dataframe."
   ]
  },
  {
   "cell_type": "code",
   "execution_count": 1,
   "metadata": {},
   "outputs": [],
   "source": [
    "    from toolz.curried import *\n",
    "    from toolz.curried.operator import *\n",
    "    from pathlib import Path\n",
    "    from pandas import Series, DataFrame, concat as Concat\n",
    "\n",
    "    ignores = 'checkpoint',\n",
    "\n",
    "    from nbformat.v4 import reads\n",
    "\n",
    "    def notebook_directory_to_df(location=''):\n",
    "        \"\"\"Convert a directory of notebooks in dataframes.\n",
    "\n",
    "        returns a dataframe for the cells and for the metadata.\n",
    "        \"\"\"\n",
    "        cells = metadata = None\n",
    "\n",
    "        suffix = '.ipynb'\n",
    "        recursive = False\n",
    "        for path in getattr(Path(location), 'glob')(f\"*{recursive and 'r' or ''}{suffix}\"):\n",
    "            for ignore in ignores:\n",
    "                if ignore in str(path): continue\n",
    "\n",
    "            nb = pipe(path.read_text(), reads)\n",
    "\n",
    "            s = DataFrame({k: v for k, v in nb.items() if k !='cells'})\n",
    "            s = s.metadata.apply(Series).stack().append(Concat({'nbformat': s.iloc[0][['nbformat', 'nbformat_minor']]}))\n",
    "\n",
    "            if cells is None:\n",
    "                cells = Concat({path: DataFrame(nb['cells'])})\n",
    "                metadata = Concat({path: s})\n",
    "            else:\n",
    "                cells = cells.append(Concat({path: DataFrame(nb['cells'])}))\n",
    "                metadata = metadata.append(Concat({path: s}))\n",
    "        return cells, metadata.unstack([-2, -1])"
   ]
  },
  {
   "cell_type": "markdown",
   "metadata": {},
   "source": [
    "### [Computational Color](http://printingcode.runemadsen.com/lecture-color/)"
   ]
  },
  {
   "cell_type": "code",
   "execution_count": 2,
   "metadata": {},
   "outputs": [],
   "source": [
    "    from importnb import Notebook"
   ]
  },
  {
   "cell_type": "code",
   "execution_count": 3,
   "metadata": {},
   "outputs": [],
   "source": [
    "    __all__ = 'test_function',"
   ]
  },
  {
   "cell_type": "code",
   "execution_count": 4,
   "metadata": {},
   "outputs": [],
   "source": [
    "    from poser import *"
   ]
  },
  {
   "cell_type": "markdown",
   "metadata": {},
   "source": [
    "# ipywidget"
   ]
  },
  {
   "cell_type": "code",
   "execution_count": 5,
   "metadata": {},
   "outputs": [],
   "source": [
    "from traitlets import dlink\n",
    "from ipywidgets import Text, HTML\n",
    "\n",
    "df = None\n",
    "\n",
    "query = Text(description='Find cells containing a string.')\n",
    "table = HTML()\n",
    "\n",
    "def finder(query):\n",
    "    global df\n",
    "    if df is None:\n",
    "        df, metadata = notebook_directory_to_df()\n",
    "        globals()['df'] = df\n",
    "    return df[df.source.apply(''.join).apply(lambda x: query in x)].to_html()\n",
    "    \n",
    "dlink((query, 'value'), (table, 'value'), finder);"
   ]
  },
  {
   "cell_type": "code",
   "execution_count": 6,
   "metadata": {},
   "outputs": [],
   "source": [
    "widget = λ.ipywidgets.VBox(children=[query, table])()"
   ]
  },
  {
   "cell_type": "code",
   "execution_count": 7,
   "metadata": {},
   "outputs": [
    {
     "data": {
      "application/vnd.jupyter.widget-view+json": {
       "model_id": "43c0533245f441b98408dbe041e6350d",
       "version_major": 2,
       "version_minor": 0
      },
      "text/plain": [
       "interactive(children=(IntSlider(value=10, description='a', max=30, min=-10), Output()), _dom_classes=('widget-…"
      ]
     },
     "metadata": {},
     "output_type": "display_data"
    }
   ],
   "source": [
    "    @λ.ipywidgets.interact()\n",
    "    def widget_demo(a=10):\n",
    "        ..."
   ]
  },
  {
   "cell_type": "markdown",
   "metadata": {},
   "source": [
    "## pytest will discover `test_function` because it starts with `test_*`"
   ]
  },
  {
   "cell_type": "code",
   "execution_count": 8,
   "metadata": {},
   "outputs": [],
   "source": [
    "    def test_function():\n",
    "        assert True"
   ]
  },
  {
   "cell_type": "markdown",
   "metadata": {},
   "source": [
    "## doctest can test the current notebook state."
   ]
  },
  {
   "cell_type": "code",
   "execution_count": 9,
   "metadata": {},
   "outputs": [],
   "source": [
    "    if __name__ == '__main__':\n",
    "        import doctest\n",
    "        doctest.testmod()"
   ]
  },
  {
   "cell_type": "markdown",
   "metadata": {},
   "source": [
    "## doctest can test the future state of the module."
   ]
  },
  {
   "cell_type": "code",
   "execution_count": 10,
   "metadata": {},
   "outputs": [
    {
     "data": {
      "application/vnd.jupyter.widget-view+json": {
       "model_id": "4420271c05eb4a1299236bb7f521f2b1",
       "version_major": 2,
       "version_minor": 0
      },
      "text/plain": [
       "interactive(children=(IntSlider(value=10, description='a', max=30, min=-10), Output()), _dom_classes=('widget-…"
      ]
     },
     "metadata": {},
     "output_type": "display_data"
    }
   ],
   "source": [
    "    if __name__ == '__main__':\n",
    "        with Notebook():\n",
    "            import test_notebook as nb\n",
    "            doctest.testmod(nb)"
   ]
  }
 ],
 "metadata": {
  "kernelspec": {
   "display_name": "p6",
   "language": "python",
   "name": "other-env"
  },
  "language_info": {
   "codemirror_mode": {
    "name": "ipython",
    "version": 3
   },
   "file_extension": ".py",
   "mimetype": "text/x-python",
   "name": "python",
   "nbconvert_exporter": "python",
   "pygments_lexer": "ipython3",
   "version": "3.6.3"
  }
 },
 "nbformat": 4,
 "nbformat_minor": 2
}
