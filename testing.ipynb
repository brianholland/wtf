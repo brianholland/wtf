{
 "cells": [
  {
   "cell_type": "markdown",
   "metadata": {},
   "source": [
    "# Testing Computational Essays\n",
    "\n",
    "* ## Folks often use notebooks to test a computational hypothesis, and never use them again.\n",
    "* ## A computational essay is crafted for reuse.  \n",
    "* ## A successful essay about a hypothesis can calibrate assumptions while iterating."
   ]
  },
  {
   "cell_type": "code",
   "execution_count": 1,
   "metadata": {},
   "outputs": [
    {
     "data": {
      "text/html": [
       "<style>\n",
       ".jp-RenderedHTMLCommon pre code {\n",
       "    text-decoration: line-through wavy;\n",
       "}\n",
       ".jp-RenderedHTMLCommon pre code:hover {\n",
       "    text-decoration: none;\n",
       "    \n",
       "}\n",
       ".jp-Placeholder-content .jp-MoreHorizIcon {\n",
       "    background-size: 32px;\n",
       "}\n",
       "\n",
       "@import url(\"https://cdn.jsdelivr.net/npm/firacode@1.205.0/distr/fira_code.css\")\n",
       "\n",
       ".CodeMirror * {\n",
       "  font-family: 'Fira Code' !important; \n",
       "  font-variant-ligatures: initial !important;\n",
       "}\n",
       "\n",
       ".cm-string {\n",
       "    font-variant-ligatures: none;\n",
       "}\n",
       "</style><style>\n",
       ".jp-mod-presentationMode .jp-SideBar,\n",
       ".jp-mod-presentationMode #jp-top-panel {\n",
       "    opacity: 0.0;\n",
       "    transition: all 0.2s;\n",
       "}\n",
       ".jp-mod-presentationMode .jp-SideBar:hover,\n",
       ".jp-mod-presentationMode #jp-top-panel:hover {\n",
       "    opacity: 0.9;\n",
       "    transition: all 0.2s;\n",
       "}\n",
       "\n",
       "</style><style>\n",
       ".jp-mod-presentationMode.jp-ApplicationShell,\n",
       ".jp-mod-presentationMode .p-TabBar-content{\n",
       "    background-color: var(--jp-layout-color0);\n",
       "}\n",
       "</style><style>\n",
       ".jp-mod-presentationMode .p-DockPanel-widget,\n",
       ".jp-mod-presentationMode #jp-left-stack{\n",
       "    border-color: transparent;\n",
       "}\n",
       ".jp-mod-presentationMode .jp-Toolbar-item,\n",
       ".jp-mod-presentationMode .jp-Toolbar {\n",
       "    opacity: 0.1;\n",
       "    transition: all 0.2s;\n",
       "}\n",
       ".jp-mod-presentationMode .jp-Toolbar-item:hover,\n",
       ".jp-mod-presentationMode .jp-Toolbar:hover {\n",
       "    opacity: 0.9;\n",
       "    transition: all 0.2s;\n",
       "}\n",
       "\n",
       "</style><style>\n",
       ".jp-mod-presentationMode .jp-OutputPrompt,\n",
       ".jp-mod-presentationMode .jp-InputPrompt {\n",
       "    max-width: 2rem !important;\n",
       "    transition: all 0.2s;\n",
       "}\n",
       ".jp-mod-presentationMode .jp-Cell.jp-mod-selected .jp-OutputPrompt,\n",
       ".jp-mod-presentationMode .jp-Cell.jp-mod-selected .jp-InputPrompt,\n",
       ".jp-mod-presentationMode .jp-Cell:hover .jp-OutputPrompt,\n",
       ".jp-mod-presentationMode .jp-Cell:hover .jp-InputPrompt {\n",
       "    max-width: 10rem !important;\n",
       "    transition: all 0.2s;\n",
       "}\n",
       "\n",
       ".jp-mod-presentationMode .jp-Cell {\n",
       "    margin-bottom: 5rem;\n",
       "}\n",
       "\n",
       ".jp-mod-presentationMode hr {\n",
       "    opacity: 0.1;\n",
       "}\n",
       "</style>\n",
       "    <style>\n",
       "    .jp-TableOfContents-content h1, \n",
       "    .jp-TableOfContents-content h2 {\n",
       "        margin-bottom: var(--jp-ui-font-size0)\n",
       "    }\n",
       "    </style>\n",
       "    \n",
       "    <style>\n",
       "    .jp-mod-presentationMode {\n",
       "        --jp-content-heading-line-height: 1.25 !important;\n",
       "    }\n",
       "    </style>\n",
       "    "
      ],
      "text/plain": [
       "<IPython.core.display.HTML object>"
      ]
     },
     "metadata": {},
     "output_type": "display_data"
    }
   ],
   "source": [
    "    with __import__('importnb').Notebook():\n",
    "        from utils import *\n",
    "    from IPython import get_ipython"
   ]
  },
  {
   "cell_type": "markdown",
   "metadata": {},
   "source": [
    "<hr/><hr/><hr/><hr/><hr/><hr/><hr/><hr/><hr/><hr/><hr/><hr/><hr/><hr/><hr/>\n",
    "\n",
    "> # What is the hardest test to write?\n",
    "\n",
    "<hr/><hr/><hr/><hr/><hr/><hr/><hr/><hr/><hr/><hr/><hr/><hr/><hr/><hr/><hr/>"
   ]
  },
  {
   "cell_type": "markdown",
   "metadata": {},
   "source": [
    "## Restart and run all is a test.\n",
    "\n",
    "If a computational essay is composed to __restart and run all__ then it can be used a source code in package, modules, testing, and documentation."
   ]
  },
  {
   "cell_type": "markdown",
   "metadata": {},
   "source": [
    "### nbconvert our old friend"
   ]
  },
  {
   "cell_type": "code",
   "execution_count": 2,
   "metadata": {},
   "outputs": [
    {
     "name": "stdout",
     "output_type": "stream",
     "text": [
      "[NbConvertApp] Converting notebook interactive.ipynb to python\n",
      "[NbConvertApp] Executing notebook with kernel: python3\n",
      "[NbConvertApp] Writing 6671 bytes to interactive.py\n"
     ]
    }
   ],
   "source": [
    "    !jupyter nbconvert --to python --execute --Execute.kernel_name=python3 --allow-errors interactive.ipynb"
   ]
  },
  {
   "cell_type": "markdown",
   "metadata": {},
   "source": [
    "### Python imports"
   ]
  },
  {
   "cell_type": "code",
   "execution_count": 3,
   "metadata": {},
   "outputs": [
    {
     "ename": "ModuleNotFoundError",
     "evalue": "No module named 'test_notebook'",
     "output_type": "error",
     "traceback": [
      "\u001b[0;31m---------------------------------------------------------------------------\u001b[0m",
      "\u001b[0;31mModuleNotFoundError\u001b[0m                       Traceback (most recent call last)",
      "\u001b[0;32m<ipython-input-3-2720923ee61f>\u001b[0m in \u001b[0;36m<module>\u001b[0;34m()\u001b[0m\n\u001b[1;32m      1\u001b[0m \u001b[0;32mwith\u001b[0m \u001b[0mλ\u001b[0m\u001b[0;34m.\u001b[0m\u001b[0mIPython\u001b[0m\u001b[0;34m.\u001b[0m\u001b[0mutils\u001b[0m\u001b[0;34m.\u001b[0m\u001b[0mcapture\u001b[0m\u001b[0;34m.\u001b[0m\u001b[0mcapture_output\u001b[0m\u001b[0;34m(\u001b[0m\u001b[0;34m)\u001b[0m\u001b[0;34m(\u001b[0m\u001b[0;34m)\u001b[0m \u001b[0;32mas\u001b[0m \u001b[0mout\u001b[0m\u001b[0;34m:\u001b[0m\u001b[0;34m\u001b[0m\u001b[0m\n\u001b[0;32m----> 2\u001b[0;31m     \u001b[0;32mimport\u001b[0m \u001b[0minteractive\u001b[0m\u001b[0;34m\u001b[0m\u001b[0m\n\u001b[0m",
      "\u001b[0;32m~/Documents/projects/deathbeds/wtf/interactive.py\u001b[0m in \u001b[0;36m<module>\u001b[0;34m()\u001b[0m\n\u001b[1;32m     80\u001b[0m \u001b[0;34m\u001b[0m\u001b[0m\n\u001b[1;32m     81\u001b[0m \u001b[0;32mwith\u001b[0m \u001b[0mNotebook\u001b[0m\u001b[0;34m(\u001b[0m\u001b[0;34m)\u001b[0m\u001b[0;34m:\u001b[0m\u001b[0;34m\u001b[0m\u001b[0m\n\u001b[0;32m---> 82\u001b[0;31m     \u001b[0;32mimport\u001b[0m \u001b[0mtest_notebook\u001b[0m \u001b[0;32mas\u001b[0m \u001b[0mnb\u001b[0m\u001b[0;34m\u001b[0m\u001b[0m\n\u001b[0m\u001b[1;32m     83\u001b[0m \u001b[0;34m\u001b[0m\u001b[0m\n\u001b[1;32m     84\u001b[0m \u001b[0;34m\u001b[0m\u001b[0m\n",
      "\u001b[0;31mModuleNotFoundError\u001b[0m: No module named 'test_notebook'"
     ]
    }
   ],
   "source": [
    "    with λ.IPython.utils.capture.capture_output()() as out:\n",
    "        import interactive"
   ]
  },
  {
   "cell_type": "code",
   "execution_count": null,
   "metadata": {},
   "outputs": [],
   "source": [
    "    print(out.stdout) or out.show()"
   ]
  },
  {
   "cell_type": "markdown",
   "metadata": {},
   "source": [
    "# Formal Testing\n",
    "\n",
    "__Restart and Run All__ is a sufficient condition for a test.  They are best used for __formal testing__ tools."
   ]
  },
  {
   "cell_type": "code",
   "execution_count": null,
   "metadata": {},
   "outputs": [],
   "source": [
    "iframe(\"\"\"http://docs.python-guide.org/en/latest/writing/tests/\"\"\")"
   ]
  },
  {
   "cell_type": "code",
   "execution_count": null,
   "metadata": {},
   "outputs": [],
   "source": [
    "    %%file doctestme.py\n",
    "    \"\"\"Doctests are a part of Python.  They execute code that starts with >>>.  \n",
    "    Doctests test an docstring in modules, functions, or classes.  I ❤️ the 💩 out of them.\n",
    "    \n",
    "    >>> assert \"❤️💩\"\n",
    "    \"\"\""
   ]
  },
  {
   "cell_type": "markdown",
   "metadata": {},
   "source": [
    "# A doctest is just a string\n",
    "\n",
    "`doctest` allows an author include simple tests in computational essay.  \n",
    "\n",
    "* Does the data exist?\n",
    "* Is the directory correct?\n",
    "* Do all of the dependencies exist?\n",
    "* `...`\n",
    "\n",
    "`doctest`s provide value during interactive computing because they encourage best practices writing docstrings.\n",
    "\n",
    ">>> The [`__test__`](https://docs.python.org/3/library/doctest.html#which-docstrings-are-examined) attribute is a cool feature of doctest.\n"
   ]
  },
  {
   "cell_type": "code",
   "execution_count": null,
   "metadata": {},
   "outputs": [],
   "source": [
    "    !python -m doctest --verbose doctestme.py"
   ]
  },
  {
   "cell_type": "markdown",
   "metadata": {},
   "source": [
    "### Doctests encourage documentation"
   ]
  },
  {
   "cell_type": "markdown",
   "metadata": {},
   "source": [
    "    def this_is_a_function():\n",
    "        \"\"\"This function is for a presentation so it is dumb AF.\n",
    "        \n",
    "        >>> assert True\n",
    "        \"\"\""
   ]
  },
  {
   "cell_type": "markdown",
   "metadata": {},
   "source": [
    "### Doctests run in the notebook."
   ]
  },
  {
   "cell_type": "markdown",
   "metadata": {},
   "source": [
    "    import doctest\n",
    "    doctest.testmod()"
   ]
  },
  {
   "cell_type": "code",
   "execution_count": null,
   "metadata": {},
   "outputs": [],
   "source": [
    "    %%file pytestme.py\n",
    "    def test_me():\n",
    "        assert True"
   ]
  },
  {
   "cell_type": "markdown",
   "metadata": {},
   "source": [
    "# [pytest](https://docs.pytest.org/) is the 💩\n",
    "\n",
    "[pytest](https://docs.pytest.org/) is an extensible testing framework in python that encourages good testing practices."
   ]
  },
  {
   "cell_type": "markdown",
   "metadata": {},
   "source": [
    "    !source activate p6 && pytest pytestme.py"
   ]
  },
  {
   "cell_type": "markdown",
   "metadata": {},
   "source": [
    "## Projects that test notebooks\n",
    "\n",
    "* [importnb](https://github.com/deathbeds/importnb) _tests notebooks as if they were python modules with pytest_\n",
    "* [pytest-ipynb](https://github.com/zonca/pytest-ipynb/tree/master/pytest_ipynb)\n",
    "* [nbval](https://github.com/computationalmodelling/nbval)"
   ]
  },
  {
   "cell_type": "markdown",
   "metadata": {},
   "source": [
    "# The value of testing notebooks\n",
    "\n",
    "* ## Notebooks can continuously validate previous computational hypotheses.\n",
    "* ## Tests can provide rich documentation.\n",
    "* ## Code does not have to be re-written to another language.\n",
    "* ## Improve documentation and sharing habits.\n",
    "* ## Notebooks will be bounded by concise units of thought."
   ]
  },
  {
   "cell_type": "markdown",
   "metadata": {},
   "source": [
    "# <big>R</big>eadability 🤓\n",
    "\n",
    "All Machines\n",
    "\n",
    "# <big>R</big>eusability 👩‍💻      👨‍💻\n",
    "\n",
    "A Few Machines\n",
    "\n",
    "# <big>R</big>eproducibility [👩‍🚀](https://github.com/chrislgarry/Apollo-11)[👨‍🚀](http://vimeo.com/28199826)\n",
    "\n",
    "Many Machines\n"
   ]
  },
  {
   "cell_type": "markdown",
   "metadata": {},
   "source": [
    "# Notebooks are a medium for sharing."
   ]
  },
  {
   "cell_type": "markdown",
   "metadata": {},
   "source": [
    "## [github](https://github.com/deathbeds/importnb/blob/master/readme.ipynb)\n",
    "\n",
    "Render notebooks without anything fun 😫.\n",
    "\n",
    "## [nbviewer](http://nbviewer.jupyter.org/github/deathbeds/wtf/blob/master/readme.ipynb)\n",
    "\n",
    "Render notebooks with rich display objects.\n",
    "\n",
    "## [mybinder](https://mybinder.org)\n",
    "\n",
    "[![Binder](https://mybinder.org/badge.svg)](https://mybinder.org/v2/gh/deathbeds/wtf/master?filepath=readme.ipynb)\n",
    "\n",
    "### [jupyterhub](https://github.com/jupyterhub/jupyterhub)\n"
   ]
  },
  {
   "cell_type": "markdown",
   "metadata": {},
   "source": [
    "# [importnb](https://github.com/deathbeds/importnb\")\n",
    "\n",
    "> ### We use [`test_notebook_dir.ipynb`](test_notebook_dir.ipynb)\n",
    "\n",
    "Importnb is a project from deathbeds that treats notebooks as python objects.  Importnb is useful for:\n",
    "\n",
    "* packaging\n",
    "* testing\n",
    "* notebook reuse"
   ]
  },
  {
   "cell_type": "markdown",
   "metadata": {},
   "source": [
    "    from importnb import Notebook, reload\n",
    "    with Notebook(): \n",
    "        import test_notebook_dir as nb"
   ]
  },
  {
   "cell_type": "markdown",
   "metadata": {},
   "source": [
    "`assert` will stop a program if its argument is false, and you can give a reason."
   ]
  },
  {
   "cell_type": "markdown",
   "metadata": {},
   "source": [
    "    assert nb.__file__.endswith('.ipynb'), \"\"\"The imported file has the wrong extension.\"\"\""
   ]
  },
  {
   "cell_type": "markdown",
   "metadata": {},
   "source": [
    "> ☝️ This is a test"
   ]
  },
  {
   "cell_type": "markdown",
   "metadata": {},
   "source": [
    "##  doctest importnb\n",
    "\n",
    "importnb has a module "
   ]
  },
  {
   "cell_type": "markdown",
   "metadata": {},
   "source": [
    "    import doctest\n",
    "    doctest.testmod(nb)"
   ]
  },
  {
   "cell_type": "markdown",
   "metadata": {},
   "source": [
    "> ### Open inspector to show the module docstring."
   ]
  },
  {
   "cell_type": "markdown",
   "metadata": {},
   "source": [
    "##  pytest importnb\n",
    "\n",
    "`pytest` looks for python modules that start with the `test_*`."
   ]
  },
  {
   "cell_type": "markdown",
   "metadata": {},
   "source": [
    "    !pytest"
   ]
  },
  {
   "cell_type": "markdown",
   "metadata": {},
   "source": [
    "## Notebook modules are reloadable.\n",
    "\n",
    "Like normal python modules, notebooks can be interactively updated and reloaded."
   ]
  },
  {
   "cell_type": "markdown",
   "metadata": {},
   "source": [
    "    with Notebook():\n",
    "        reload(nb)"
   ]
  },
  {
   "cell_type": "code",
   "execution_count": 7,
   "metadata": {},
   "outputs": [
    {
     "name": "stdout",
     "output_type": "stream",
     "text": [
      "\u001b]0;IPython: deathbeds/wtf\u0007usage: test_notebook_dir.ipynb [-h] [--ignores IGNORES] [--df DF]\n",
      "\n",
      "# Demonstrating the reusability of notebooks. Since notebooks are json they\n",
      "may be considered to be data. This project loads in and explores notebooks as\n",
      "dataframes. * `importnb` imports notebooks as modules * `importnb` allows\n",
      "notebooks to be discovered as tests. >>> with Notebook(): import notebook_dir\n",
      "as nb >>> assert 'test_function' in dir(nb) >>> assert\n",
      "nb.notebook_directory_to_df()\n",
      "\n",
      "optional arguments:\n",
      "  -h, --help         show this help message and exit\n",
      "  --ignores IGNORES  <class 'tuple'> ('checkpoint',)\n",
      "  --df DF            <class 'NoneType'> None\n"
     ]
    }
   ],
   "source": [
    "!ipython -m importnb -- test_notebook_dir.ipynb --help"
   ]
  },
  {
   "cell_type": "markdown",
   "metadata": {},
   "source": [
    "# Take Away\n",
    "\n",
    "## Write notebooks.\n",
    "## Write notebooks with the intent to reuse them.\n",
    "## Write to use tools that check your hypotheses.\n",
    "## Write narrative.\n",
    "## Write code.\n",
    "## Write.\n",
    "## Write notebooks you want to read."
   ]
  },
  {
   "cell_type": "markdown",
   "metadata": {},
   "source": [
    "## [Interactivity 🤛](interactive.ipynb) 🤖 [🤜 Readme](readme.ipynb#Deathbeds)"
   ]
  }
 ],
 "metadata": {
  "kernelspec": {
   "display_name": "Python 3",
   "language": "python",
   "name": "python3"
  },
  "language_info": {
   "codemirror_mode": {
    "name": "ipython",
    "version": 3
   },
   "file_extension": ".py",
   "mimetype": "text/x-python",
   "name": "python",
   "nbconvert_exporter": "python",
   "pygments_lexer": "ipython3",
   "version": "3.6.5"
  }
 },
 "nbformat": 4,
 "nbformat_minor": 2
}
