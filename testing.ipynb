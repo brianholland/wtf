{
 "cells": [
  {
   "cell_type": "markdown",
   "metadata": {},
   "source": [
    "# Testing Computational Essays\n",
    "\n",
    "* ## Folks often use notebooks to test a computational hypothesis, and never use them again.\n",
    "* ## A computational essay is crafted for reuse.  \n",
    "* ## A successful essay about a hypothesis can calibrate an assumptions while iterating."
   ]
  },
  {
   "cell_type": "code",
   "execution_count": 16,
   "metadata": {},
   "outputs": [],
   "source": [
    "    with __import__('importnb').Notebook():\n",
    "        from utils import *\n",
    "    from IPython import get_ipython"
   ]
  },
  {
   "cell_type": "markdown",
   "metadata": {},
   "source": [
    "<hr/><hr/><hr/><hr/><hr/><hr/><hr/><hr/><hr/><hr/><hr/><hr/><hr/><hr/><hr/>\n",
    "\n",
    "> # What is the hardest test to write?\n",
    "\n",
    "<hr/><hr/><hr/><hr/><hr/><hr/><hr/><hr/><hr/><hr/><hr/><hr/><hr/><hr/><hr/>"
   ]
  },
  {
   "cell_type": "markdown",
   "metadata": {},
   "source": [
    "## Restart and run all is a test.\n",
    "\n",
    "If a computational essay is composed to __restart and run all__ then it can be used a source code in package, modules, testing, and documentation."
   ]
  },
  {
   "cell_type": "markdown",
   "metadata": {},
   "source": [
    "### nbconvert our old friend"
   ]
  },
  {
   "cell_type": "code",
   "execution_count": 17,
   "metadata": {},
   "outputs": [
    {
     "name": "stdout",
     "output_type": "stream",
     "text": [
      "[NbConvertApp] Converting notebook interactive.ipynb to python\n",
      "[NbConvertApp] Executing notebook with kernel: python3\n",
      "[NbConvertApp] Writing 6189 bytes to interactive.py\n"
     ]
    }
   ],
   "source": [
    "    !jupyter nbconvert --to python --execute --Execute.kernel_name=python3 --allow-errors interactive.ipynb"
   ]
  },
  {
   "cell_type": "markdown",
   "metadata": {},
   "source": [
    "### Python imports"
   ]
  },
  {
   "cell_type": "code",
   "execution_count": 18,
   "metadata": {},
   "outputs": [],
   "source": [
    "    with λ.IPython.utils.capture.capture_output()() as out:\n",
    "        import interactive"
   ]
  },
  {
   "cell_type": "code",
   "execution_count": 19,
   "metadata": {},
   "outputs": [
    {
     "name": "stdout",
     "output_type": "stream",
     "text": [
      "\n"
     ]
    }
   ],
   "source": [
    "    print(out.stdout) or out.show()"
   ]
  },
  {
   "cell_type": "markdown",
   "metadata": {},
   "source": [
    "# Formal Testing\n",
    "\n",
    "__Restart and Run All__ is a sufficient condition for a test.  They are best used for __formal testing__ tools."
   ]
  },
  {
   "cell_type": "code",
   "execution_count": 20,
   "metadata": {},
   "outputs": [
    {
     "data": {
      "text/html": [
       "\n",
       "        <iframe\n",
       "            width=\"600\"\n",
       "            height=\"400\"\n",
       "            src=\"http://docs.python-guide.org/en/latest/writing/tests/\"\n",
       "            frameborder=\"0\"\n",
       "            allowfullscreen\n",
       "        ></iframe>\n",
       "        "
      ],
      "text/plain": [
       "<IPython.lib.display.IFrame at 0x1078aa8d0>"
      ]
     },
     "execution_count": 20,
     "metadata": {},
     "output_type": "execute_result"
    }
   ],
   "source": [
    "iframe(\"\"\"http://docs.python-guide.org/en/latest/writing/tests/\"\"\")"
   ]
  },
  {
   "cell_type": "code",
   "execution_count": 21,
   "metadata": {},
   "outputs": [
    {
     "name": "stdout",
     "output_type": "stream",
     "text": [
      "Overwriting doctestme.py\n"
     ]
    }
   ],
   "source": [
    "    %%file doctestme.py\n",
    "    \"\"\"Doctests are a part of Python.  They execute code that starts with >>>.  \n",
    "    Doctests test an docstring in modules, functions, or classes.  I ❤️ the 💩 out of them.\n",
    "    \n",
    "    >>> assert \"❤️💩\"\n",
    "    \"\"\""
   ]
  },
  {
   "cell_type": "markdown",
   "metadata": {},
   "source": [
    "# A doctest is just a string\n",
    "\n",
    "`doctest` allows an author include simple tests in computational essay.  \n",
    "\n",
    "* Does the data exist?\n",
    "* Is the directory correct?\n",
    "* Do all of the dependencies exist?\n",
    "* `...`\n",
    "\n",
    "`doctest`s provide value during interactive computing because they encourage best practices writing docstrings.\n",
    "\n",
    ">>> The [`__test__`](https://docs.python.org/3/library/doctest.html#which-docstrings-are-examined) attribute is a cool feature of doctest.\n"
   ]
  },
  {
   "cell_type": "code",
   "execution_count": 22,
   "metadata": {},
   "outputs": [
    {
     "name": "stdout",
     "output_type": "stream",
     "text": [
      "Trying:\n",
      "    assert \"❤️💩\"\n",
      "Expecting nothing\n",
      "ok\n",
      "1 items passed all tests:\n",
      "   1 tests in doctestme\n",
      "1 tests in 1 items.\n",
      "1 passed and 0 failed.\n",
      "Test passed.\n"
     ]
    }
   ],
   "source": [
    "    !python -m doctest --verbose doctestme.py"
   ]
  },
  {
   "cell_type": "markdown",
   "metadata": {},
   "source": [
    "### Doctests encourage documentation"
   ]
  },
  {
   "cell_type": "markdown",
   "metadata": {},
   "source": [
    "    def this_is_a_function():\n",
    "        \"\"\"This function is for a presentation so it is dumb AF.\n",
    "        \n",
    "        >>> assert True\n",
    "        \"\"\""
   ]
  },
  {
   "cell_type": "markdown",
   "metadata": {},
   "source": [
    "### Doctests run in the notebook."
   ]
  },
  {
   "cell_type": "markdown",
   "metadata": {},
   "source": [
    "    import doctest\n",
    "    doctest.testmod()"
   ]
  },
  {
   "cell_type": "code",
   "execution_count": 23,
   "metadata": {},
   "outputs": [
    {
     "name": "stdout",
     "output_type": "stream",
     "text": [
      "Overwriting pytestme.py\n"
     ]
    }
   ],
   "source": [
    "    %%file pytestme.py\n",
    "    def test_me():\n",
    "        assert True"
   ]
  },
  {
   "cell_type": "markdown",
   "metadata": {},
   "source": [
    "# [pytest](https://docs.pytest.org/) is the 💩\n",
    "\n",
    "[pytest](https://docs.pytest.org/) is an extensible testing framework in python that encourages good testing practices."
   ]
  },
  {
   "cell_type": "markdown",
   "metadata": {},
   "source": [
    "    !source activate p6 && pytest pytestme.py"
   ]
  },
  {
   "cell_type": "markdown",
   "metadata": {},
   "source": [
    "## Projects that test notebooks\n",
    "\n",
    "* [importnb](https://github.com/deathbeds/importnb) _tests notebooks as if they were python modules with pytest_\n",
    "* [pytest-ipynb](https://github.com/zonca/pytest-ipynb/tree/master/pytest_ipynb)\n",
    "* [nbval](https://github.com/computationalmodelling/nbval)"
   ]
  },
  {
   "cell_type": "markdown",
   "metadata": {},
   "source": [
    "# The value of testing notebooks\n",
    "\n",
    "* ## Notebooks can continuously validate previous computational hypotheses.\n",
    "* ## Tests can provide rich documentation.\n",
    "* ## Code does not have to be re-written to another language.\n",
    "* ## Improve documentation and sharing habits.\n",
    "* ## Notebooks will be bounded by concise units of thought."
   ]
  },
  {
   "cell_type": "markdown",
   "metadata": {},
   "source": [
    "# <big>R</big>eadability 🤓\n",
    "\n",
    "All Machines\n",
    "\n",
    "# <big>R</big>eusability 👩‍💻      👨‍💻\n",
    "\n",
    "A Few Machines\n",
    "\n",
    "# <big>R</big>eproducibility [👩‍🚀](https://github.com/chrislgarry/Apollo-11)[👨‍🚀](http://vimeo.com/28199826)\n",
    "\n",
    "Many Machines\n"
   ]
  },
  {
   "cell_type": "markdown",
   "metadata": {},
   "source": [
    "# Notebooks are a medium for sharing."
   ]
  },
  {
   "cell_type": "markdown",
   "metadata": {},
   "source": [
    "## [github](https://github.com/deathbeds/importnb/blob/master/readme.ipynb)\n",
    "\n",
    "Render notebooks without anything fun 😫.\n",
    "\n",
    "## [nbviewer](http://nbviewer.jupyter.org/github/deathbeds/wtf/blob/master/readme.ipynb)\n",
    "\n",
    "Render notebooks with rich display objects.\n",
    "\n",
    "## [mybinder](https://mybinder.org)\n",
    "\n",
    "[![Binder](https://mybinder.org/badge.svg)](https://mybinder.org/v2/gh/deathbeds/wtf/master?filepath=readme.ipynb)\n",
    "\n",
    "### [jupyterhub](https://github.com/jupyterhub/jupyterhub)\n"
   ]
  },
  {
   "cell_type": "markdown",
   "metadata": {},
   "source": [
    "# [importnb](https://github.com/deathbeds/importnb\")\n",
    "\n",
    "> ### We use [`test_notebook.ipynb`](test_notebook.ipynb)\n",
    "\n",
    "Importnb is a project from deathbeds that treats notebooks as python objects.  Importnb is useful for:\n",
    "\n",
    "* packaging\n",
    "* testing\n",
    "* notebook reuse"
   ]
  },
  {
   "cell_type": "markdown",
   "metadata": {},
   "source": [
    "    from importnb import Notebook, reload\n",
    "    with Notebook(): \n",
    "        import test_notebook as nb"
   ]
  },
  {
   "cell_type": "markdown",
   "metadata": {},
   "source": [
    "`assert` will stop a program if its argument is false, and you can give a reason."
   ]
  },
  {
   "cell_type": "markdown",
   "metadata": {},
   "source": [
    "    assert nb.__file__.endswith('.ipynb'), \"\"\"The imported file has the wrong extension.\"\"\""
   ]
  },
  {
   "cell_type": "markdown",
   "metadata": {},
   "source": [
    "> ☝️ This is a test"
   ]
  },
  {
   "cell_type": "markdown",
   "metadata": {},
   "source": [
    "##  doctest importnb\n",
    "\n",
    "importnb has a module "
   ]
  },
  {
   "cell_type": "markdown",
   "metadata": {},
   "source": [
    "    import doctest\n",
    "    doctest.testmod(nb)"
   ]
  },
  {
   "cell_type": "markdown",
   "metadata": {},
   "source": [
    "> ### Open inspector to show the module docstring."
   ]
  },
  {
   "cell_type": "markdown",
   "metadata": {},
   "source": [
    "##  pytest importnb\n",
    "\n",
    "`pytest` looks for python modules that start with the `test_*`."
   ]
  },
  {
   "cell_type": "markdown",
   "metadata": {},
   "source": [
    "    !pytest"
   ]
  },
  {
   "cell_type": "markdown",
   "metadata": {},
   "source": [
    "## Notebook modules are reloadable.\n",
    "\n",
    "Like normal python modules, notebooks can be interactively updated and reloaded."
   ]
  },
  {
   "cell_type": "markdown",
   "metadata": {},
   "source": [
    "    with Notebook():\n",
    "        reload(nb)"
   ]
  },
  {
   "cell_type": "markdown",
   "metadata": {},
   "source": [
    "# Take Away\n",
    "\n",
    "## Write notebooks.\n",
    "## Write notebooks with the intent to reuse them.\n",
    "## Write to use tools that check your hypotheses.\n",
    "## Write narrative.\n",
    "## Write code.\n",
    "## Write.\n",
    "## Write notebooks you want to read."
   ]
  },
  {
   "cell_type": "markdown",
   "metadata": {},
   "source": [
    "## [Interactivity 🤛](interactive.ipynb) 🤖 [🤜 Readme](readme.ipynb#Deathbeds)"
   ]
  }
 ],
 "metadata": {
  "kernelspec": {
   "display_name": "p6",
   "language": "python",
   "name": "other-env"
  },
  "language_info": {
   "codemirror_mode": {
    "name": "ipython",
    "version": 3
   },
   "file_extension": ".py",
   "mimetype": "text/x-python",
   "name": "python",
   "nbconvert_exporter": "python",
   "pygments_lexer": "ipython3",
   "version": "3.6.3"
  }
 },
 "nbformat": 4,
 "nbformat_minor": 2
}
