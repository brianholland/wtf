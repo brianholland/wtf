{
 "cells": [
  {
   "cell_type": "code",
   "execution_count": 23,
   "metadata": {},
   "outputs": [],
   "source": [
    "from ipywidgets import IntSlider, HTML, dlink, HBox, VBox"
   ]
  },
  {
   "cell_type": "code",
   "execution_count": 24,
   "metadata": {},
   "outputs": [],
   "source": [
    "labels = [\"--💯\", \"👎\", \"¯\\_(ツ)_/¯\", \"👍\", \"++💯\"]\n",
    "title = \"Agree?\"\n",
    "orientation = \"vertical\""
   ]
  },
  {
   "cell_type": "code",
   "execution_count": 25,
   "metadata": {},
   "outputs": [],
   "source": [
    "x = [IntSlider(description=f\"{i}\", orientation=orientation) \n",
    "     for i in labels]"
   ]
  },
  {
   "cell_type": "code",
   "execution_count": 26,
   "metadata": {},
   "outputs": [],
   "source": [
    "graph = HTML()\n",
    "head = HTML(f\"\"\"<h1 style=\"text-align: center;\">{title}?</h1>\"\"\")"
   ]
  },
  {
   "cell_type": "code",
   "execution_count": 27,
   "metadata": {},
   "outputs": [
    {
     "data": {
      "application/vnd.jupyter.widget-view+json": {
       "model_id": "b0dd6a5852514a5c9a7125b0331f5732",
       "version_major": 2,
       "version_minor": 0
      },
      "text/plain": [
       "VBox(children=(HTML(value='<h1 style=\"text-align: center;\">Agree??</h1>'), HTML(value=''), HBox(children=(IntS…"
      ]
     },
     "metadata": {},
     "output_type": "display_data"
    }
   ],
   "source": [
    "view = VBox([head, graph, HBox(x)])\n",
    "view"
   ]
  },
  {
   "cell_type": "code",
   "execution_count": 28,
   "metadata": {},
   "outputs": [],
   "source": [
    "template = lambda *_: f\"\"\"\n",
    "<svg width=\"400\" height=\"150\">\n",
    "    {\"\".join([f'''\n",
    "        <text x=\"{(i * 75) + 50}\" \n",
    "              y=\"{120 - xi.value}\"\n",
    "              style=\"font-size: 18px; inline-size: 75px; text-anchor: middle;\">\n",
    "              <tspan>{xi.description}</tspan>\n",
    "              <tspan x=\"20\">{xi.value}</tspan>\n",
    "              </text>'''\n",
    "        for i, xi in enumerate(x)])}\n",
    "</svg>\n",
    "\"\"\""
   ]
  },
  {
   "cell_type": "code",
   "execution_count": 29,
   "metadata": {},
   "outputs": [],
   "source": [
    "[dlink((i, \"value\"), \n",
    "       (graph, \"value\"), \n",
    "       lambda *_: template()) \n",
    " for i in x];"
   ]
  }
 ],
 "metadata": {
  "kernelspec": {
   "display_name": "Python 3",
   "language": "python",
   "name": "python3"
  },
  "language_info": {
   "codemirror_mode": {
    "name": "ipython",
    "version": 3
   },
   "file_extension": ".py",
   "mimetype": "text/x-python",
   "name": "python",
   "nbconvert_exporter": "python",
   "pygments_lexer": "ipython3",
   "version": "3.6.5"
  }
 },
 "nbformat": 4,
 "nbformat_minor": 2
}
