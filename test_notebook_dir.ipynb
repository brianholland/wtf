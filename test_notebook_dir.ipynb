{
 "cells": [
  {
   "cell_type": "markdown",
   "metadata": {},
   "source": [
    "# Demonstrating the reusability of notebooks.\n",
    "\n",
    "Since notebooks are json they may be considered to be data.  This project loads in and explores notebooks as dataframes.\n",
    "\n",
    "* `importnb` imports notebooks as modules\n",
    "* `importnb` allows notebooks to be discovered as tests.\n",
    "\n",
    "    >>> with Notebook(): import notebook_dir as nb\n",
    "    >>> assert 'test_function' in dir(nb)\n",
    "    >>> assert nb.notebook_directory_to_df()"
   ]
  },
  {
   "cell_type": "markdown",
   "metadata": {},
   "source": [
    "# This notebooks loads in a directory of notebooks as dataframe."
   ]
  },
  {
   "cell_type": "code",
   "execution_count": 1,
   "metadata": {},
   "outputs": [],
   "source": [
    "    from toolz.curried import *\n",
    "    from toolz.curried.operator import *\n",
    "    from pathlib import Path\n",
    "    from pandas import Series, DataFrame, concat as Concat\n",
    "\n",
    "    ignores = 'checkpoint',\n",
    "\n",
    "    from nbformat.v4 import reads\n",
    "\n",
    "    def notebook_directory_to_df(location=''):\n",
    "        \"\"\"Convert a directory of notebooks in dataframes.\n",
    "\n",
    "        returns a dataframe for the cells and for the metadata.\n",
    "        \"\"\"\n",
    "        cells = metadata = None\n",
    "\n",
    "        suffix = '.ipynb'\n",
    "        recursive = False\n",
    "        for path in getattr(Path(location), 'glob')(f\"*{recursive and 'r' or ''}{suffix}\"):\n",
    "            for ignore in ignores:\n",
    "                if ignore in str(path): continue\n",
    "\n",
    "            try:\n",
    "                nb = pipe(path.read_text(), reads)\n",
    "            except: continue\n",
    "\n",
    "            s = DataFrame({k: v for k, v in nb.items() if k !='cells'})\n",
    "            s = s.metadata.apply(Series).stack().append(Concat({'nbformat': s.iloc[0][['nbformat', 'nbformat_minor']]}))\n",
    "\n",
    "            if cells is None:\n",
    "                cells = Concat({path: DataFrame(nb['cells'])})\n",
    "                metadata = Concat({path: s})\n",
    "            else:\n",
    "                cells = cells.append(Concat({path: DataFrame(nb['cells'])}))\n",
    "                metadata = metadata.append(Concat({path: s}))\n",
    "        return cells, metadata.unstack([-2, -1])"
   ]
  },
  {
   "cell_type": "code",
   "execution_count": 2,
   "metadata": {},
   "outputs": [],
   "source": [
    "    __all__ = 'test_function',"
   ]
  },
  {
   "cell_type": "markdown",
   "metadata": {},
   "source": [
    "# ipywidgets"
   ]
  },
  {
   "cell_type": "code",
   "execution_count": 3,
   "metadata": {},
   "outputs": [],
   "source": [
    "from traitlets import dlink\n",
    "from ipywidgets import Text, HTML, VBox\n",
    "from functools import partial\n",
    "\n",
    "df = None\n",
    "def finder(query, dir=''):\n",
    "    global df\n",
    "    if df is None:\n",
    "        df, metadata = notebook_directory_to_df(dir)\n",
    "        globals()['df'] = df\n",
    "    return df[df.source.apply(''.join).apply(lambda x: query in x)].to_html()\n",
    "    \n",
    ";\n",
    "\n",
    "def create_query_widget(location=''):\n",
    "    \"\"\"Create a widget to query a dataframe of notebooks.\n",
    "    \n",
    "        create_query_widget('')\n",
    "        \n",
    "    \"\"\"\n",
    "    query = Text(description='Find cells containing a string.')\n",
    "    table = HTML()\n",
    "    dlink((query, 'value'), (table, 'value'), partial(finder, dir=location))\n",
    "    return VBox(children=[query, table])"
   ]
  },
  {
   "cell_type": "markdown",
   "metadata": {},
   "source": [
    "> ### [`interact`](http://ipywidgets.readthedocs.io/en/latest/examples/Using%20Interact.html) is the simplest use of widgets."
   ]
  },
  {
   "cell_type": "markdown",
   "metadata": {},
   "source": [
    "## pytest will discover `test_function` because it starts with `test_*`"
   ]
  },
  {
   "cell_type": "code",
   "execution_count": 4,
   "metadata": {},
   "outputs": [],
   "source": [
    "    def test_function():\n",
    "        assert True"
   ]
  },
  {
   "cell_type": "markdown",
   "metadata": {},
   "source": [
    "## doctest can test the current notebook state."
   ]
  },
  {
   "cell_type": "code",
   "execution_count": 5,
   "metadata": {},
   "outputs": [],
   "source": [
    "    if __name__ == '__main__':\n",
    "        import doctest\n",
    "        doctest.testmod()"
   ]
  },
  {
   "cell_type": "markdown",
   "metadata": {},
   "source": [
    "## doctest can test the future state of the module."
   ]
  },
  {
   "cell_type": "code",
   "execution_count": 6,
   "metadata": {},
   "outputs": [
    {
     "ename": "NameError",
     "evalue": "name 'Notebook' is not defined",
     "output_type": "error",
     "traceback": [
      "\u001b[0;31m---------------------------------------------------------------------------\u001b[0m",
      "\u001b[0;31mNameError\u001b[0m                                 Traceback (most recent call last)",
      "\u001b[0;32m<ipython-input-6-f30d88bba63e>\u001b[0m in \u001b[0;36m<module>\u001b[0;34m()\u001b[0m\n\u001b[1;32m      1\u001b[0m \u001b[0;32mif\u001b[0m \u001b[0m__name__\u001b[0m \u001b[0;34m==\u001b[0m \u001b[0;34m'__main__'\u001b[0m\u001b[0;34m:\u001b[0m\u001b[0;34m\u001b[0m\u001b[0m\n\u001b[0;32m----> 2\u001b[0;31m     \u001b[0;32mwith\u001b[0m \u001b[0mNotebook\u001b[0m\u001b[0;34m(\u001b[0m\u001b[0;34m)\u001b[0m\u001b[0;34m:\u001b[0m\u001b[0;34m\u001b[0m\u001b[0m\n\u001b[0m\u001b[1;32m      3\u001b[0m         \u001b[0;32mimport\u001b[0m \u001b[0mtest_notebook_dir\u001b[0m \u001b[0;32mas\u001b[0m \u001b[0mnb\u001b[0m\u001b[0;34m\u001b[0m\u001b[0m\n\u001b[1;32m      4\u001b[0m         \u001b[0mdoctest\u001b[0m\u001b[0;34m.\u001b[0m\u001b[0mtestmod\u001b[0m\u001b[0;34m(\u001b[0m\u001b[0mnb\u001b[0m\u001b[0;34m)\u001b[0m\u001b[0;34m\u001b[0m\u001b[0m\n",
      "\u001b[0;31mNameError\u001b[0m: name 'Notebook' is not defined"
     ]
    }
   ],
   "source": [
    "    if __name__ == '__main__':\n",
    "        with Notebook():\n",
    "            import test_notebook_dir as nb\n",
    "            doctest.testmod(nb)"
   ]
  }
 ],
 "metadata": {
  "kernelspec": {
   "display_name": "p6",
   "language": "python",
   "name": "other-env"
  },
  "language_info": {
   "codemirror_mode": {
    "name": "ipython",
    "version": 3
   },
   "file_extension": ".py",
   "mimetype": "text/x-python",
   "name": "python",
   "nbconvert_exporter": "python",
   "pygments_lexer": "ipython3",
   "version": "3.6.3"
  }
 },
 "nbformat": 4,
 "nbformat_minor": 2
}
