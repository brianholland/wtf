{
 "cells": [
  {
   "cell_type": "markdown",
   "metadata": {},
   "source": [
    "# A Notebook is a Hypothesis\n",
    "\n",
    "## An interactive computing performance from [deathbeds](https://github.com/deathbeds/importnb)"
   ]
  },
  {
   "cell_type": "markdown",
   "metadata": {},
   "source": [
    "1. [notebooks.ipynb](notebooks.ipynb)\n",
    "\n",
    "    * Physical Notebooks\n",
    "    * Modern Notebooks\n",
    "    \n",
    "2. [interactive.ipynb](interactive.ipynb)\n",
    "\n",
    "    * Interactive Computing\n",
    "    * Hypothesis Testing\n",
    "    \n",
    "3. testing.ipynb\n",
    "\n",
    "    * Formal Reproducible Testing\n",
    "    * Reuse"
   ]
  },
  {
   "cell_type": "markdown",
   "metadata": {},
   "source": [
    "# Takeaways\n",
    "\n",
    "* [What a computational essay is](http://blog.stephenwolfram.com/2017/11/what-is-a-computational-essay/).\n",
    "\n",
    "* Learn about modern notebooks in a modern way.\n",
    "* Ways to make your work last longer focusing on tests and reproducibility.\n",
    "* Programming is more than code.\n",
    "* Potential Values of Testing"
   ]
  },
  {
   "cell_type": "markdown",
   "metadata": {},
   "source": [
    "# Getting Started with Notebooks"
   ]
  },
  {
   "cell_type": "markdown",
   "metadata": {},
   "source": [
    "## Useful packages\n",
    "\n",
    "* Importnb\n",
    "* doctest\n",
    "* unittest\n",
    "* pytest\n",
    "* Mybinder\n",
    "* nbviewer\n",
    "* nbconvert"
   ]
  },
  {
   "cell_type": "markdown",
   "metadata": {},
   "source": [
    "# Deathbeds\n",
    "\n",
    "Deathbeds is open source coding collective experimenting with interactive computing and modern science.\n",
    "\n",
    "* ## Jyve\n",
    "* ## nbconvert\n",
    "* ## poser"
   ]
  },
  {
   "cell_type": "code",
   "execution_count": 4,
   "metadata": {},
   "outputs": [
    {
     "name": "stdout",
     "output_type": "stream",
     "text": [
      "[NbConvertApp] Converting notebook readme.ipynb to markdown\n",
      "[NbConvertApp] Writing 377 bytes to readme.md\n"
     ]
    }
   ],
   "source": [
    "    if __name__ == '__main__':\n",
    "        !jupyter nbconvert --to markdown readme.ipynb"
   ]
  },
  {
   "cell_type": "code",
   "execution_count": null,
   "metadata": {},
   "outputs": [],
   "source": []
  },
  {
   "cell_type": "code",
   "execution_count": null,
   "metadata": {},
   "outputs": [],
   "source": []
  }
 ],
 "metadata": {
  "kernelspec": {
   "display_name": "p6",
   "language": "python",
   "name": "other-env"
  },
  "language_info": {
   "codemirror_mode": {
    "name": "ipython",
    "version": 3
   },
   "file_extension": ".py",
   "mimetype": "text/x-python",
   "name": "python",
   "nbconvert_exporter": "python",
   "pygments_lexer": "ipython3",
   "version": "3.6.3"
  }
 },
 "nbformat": 4,
 "nbformat_minor": 2
}
