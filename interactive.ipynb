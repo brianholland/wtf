{
 "cells": [
  {
   "cell_type": "markdown",
   "metadata": {},
   "source": [
    "# Interactive Computing 👩‍🚀💻🤖 Modern Notebooks\n",
    "\n",
    "---\n",
    "\n",
    "Moving from the command line to the browser, modern notebooks provide a medium for crafting computational essays.\n",
    "\n",
    "---\n",
    "\n"
   ]
  },
  {
   "cell_type": "code",
   "execution_count": 1,
   "metadata": {},
   "outputs": [
    {
     "data": {
      "text/html": [
       "<style>\n",
       ".jp-RenderedHTMLCommon pre code {\n",
       "    text-decoration: line-through wavy;\n",
       "}\n",
       ".jp-RenderedHTMLCommon pre code:hover {\n",
       "    text-decoration: none;\n",
       "    \n",
       "}\n",
       ".jp-Placeholder-content .jp-MoreHorizIcon {\n",
       "    background-size: 32px;\n",
       "}\n",
       "\n",
       "@import url(\"https://cdn.jsdelivr.net/npm/firacode@1.205.0/distr/fira_code.css\")\n",
       "\n",
       ".CodeMirror * {\n",
       "  font-family: 'Fira Code' !important; \n",
       "  font-variant-ligatures: initial !important;\n",
       "}\n",
       "\n",
       ".cm-string {\n",
       "    font-variant-ligatures: none;\n",
       "}\n",
       "</style><style>\n",
       ".jp-mod-presentationMode .jp-SideBar,\n",
       ".jp-mod-presentationMode #jp-top-panel {\n",
       "    opacity: 0.0;\n",
       "    transition: all 0.2s;\n",
       "}\n",
       ".jp-mod-presentationMode .jp-SideBar:hover,\n",
       ".jp-mod-presentationMode #jp-top-panel:hover {\n",
       "    opacity: 0.9;\n",
       "    transition: all 0.2s;\n",
       "}\n",
       "\n",
       "</style><style>\n",
       ".jp-mod-presentationMode.jp-ApplicationShell,\n",
       ".jp-mod-presentationMode .p-TabBar-content{\n",
       "    background-color: var(--jp-layout-color0);\n",
       "}\n",
       "</style><style>\n",
       ".jp-mod-presentationMode .p-DockPanel-widget,\n",
       ".jp-mod-presentationMode #jp-left-stack{\n",
       "    border-color: transparent;\n",
       "}\n",
       ".jp-mod-presentationMode .jp-Toolbar-item,\n",
       ".jp-mod-presentationMode .jp-Toolbar {\n",
       "    opacity: 0.1;\n",
       "    transition: all 0.2s;\n",
       "}\n",
       ".jp-mod-presentationMode .jp-Toolbar-item:hover,\n",
       ".jp-mod-presentationMode .jp-Toolbar:hover {\n",
       "    opacity: 0.9;\n",
       "    transition: all 0.2s;\n",
       "}\n",
       "\n",
       "</style><style>\n",
       ".jp-mod-presentationMode .jp-OutputPrompt,\n",
       ".jp-mod-presentationMode .jp-InputPrompt {\n",
       "    max-width: 2rem !important;\n",
       "    transition: all 0.2s;\n",
       "}\n",
       ".jp-mod-presentationMode .jp-Cell.jp-mod-selected .jp-OutputPrompt,\n",
       ".jp-mod-presentationMode .jp-Cell.jp-mod-selected .jp-InputPrompt,\n",
       ".jp-mod-presentationMode .jp-Cell:hover .jp-OutputPrompt,\n",
       ".jp-mod-presentationMode .jp-Cell:hover .jp-InputPrompt {\n",
       "    max-width: 10rem !important;\n",
       "    transition: all 0.2s;\n",
       "}\n",
       "\n",
       ".jp-mod-presentationMode .jp-Cell {\n",
       "    margin-bottom: 5rem;\n",
       "}\n",
       "\n",
       ".jp-mod-presentationMode hr {\n",
       "    opacity: 0.1;\n",
       "}\n",
       "</style>\n",
       "    <style>\n",
       "    .jp-TableOfContents-content h1, \n",
       "    .jp-TableOfContents-content h2 {\n",
       "        margin-bottom: var(--jp-ui-font-size0)\n",
       "    }\n",
       "    </style>\n",
       "    \n",
       "    <style>\n",
       "    .jp-mod-presentationMode {\n",
       "        --jp-content-heading-line-height: 1.25 !important;\n",
       "    }\n",
       "    </style>\n",
       "    "
      ],
      "text/plain": [
       "<IPython.core.display.HTML object>"
      ]
     },
     "metadata": {},
     "output_type": "display_data"
    }
   ],
   "source": [
    "with __import__('importnb').Notebook():\n",
    "    from utils import *; g(\"\"\"graph {rankdir=\"LR\"; data--science--computing--data subgraph cluster_science {science label=\"modern\\nfolk lore\"}} \"\"\")"
   ]
  },
  {
   "cell_type": "markdown",
   "metadata": {},
   "source": [
    "### [\"Literate computing\" and computational reproducibility: IPython in the age of data-driven journalism](http://blog.fperez.org/2013/04/literate-computing-and-computational.html)\n",
    "> Our job with Jupyter~~IPython~~ is to think deeply about questions regarding the intersection of _**computing, data and science**_, but it's clear to me at this point that we can contribute in contexts beyond pure scientific research. I hope we'll be able to provide folks who have a _**direct intersection with the public**_, such as journalists, with tools that help a more informed and productive debate.\n",
    "\n",
    "> - [Fernando Perez](http://github.com/fperez)"
   ]
  },
  {
   "cell_type": "markdown",
   "metadata": {},
   "source": [
    "<hr/><hr/>"
   ]
  },
  {
   "cell_type": "markdown",
   "metadata": {},
   "source": [
    "## [What Is a Computational Essay?](http://blog.stephenwolfram.com/2017/11/what-is-a-computational-essay/)\n",
    "\n",
    "> ### Professionals of the future will routinely deliver results and reports as computational essays. Educators will routinely explain concepts using computational essays. Students will routinely produce computational essays as homework for their classes.\n",
    "\n",
    ">> * [Stephen Wolfram](http://blog.stephenwolfram.com/2017/11/what-is-a-computational-essay/)"
   ]
  },
  {
   "cell_type": "code",
   "execution_count": 2,
   "metadata": {},
   "outputs": [
    {
     "data": {
      "text/html": [
       "\n",
       "        <iframe\n",
       "            width=\"600\"\n",
       "            height=\"400\"\n",
       "            src=\"http://blog.stephenwolfram.com/2017/11/what-is-a-computational-essay/\"\n",
       "            frameborder=\"0\"\n",
       "            allowfullscreen\n",
       "        ></iframe>\n",
       "        "
      ],
      "text/plain": [
       "<IPython.lib.display.IFrame at 0x10d913be0>"
      ]
     },
     "execution_count": 2,
     "metadata": {},
     "output_type": "execute_result"
    }
   ],
   "source": [
    "iframe(\"\"\"http://blog.stephenwolfram.com/2017/11/what-is-a-computational-essay/\"\"\")"
   ]
  },
  {
   "cell_type": "code",
   "execution_count": 3,
   "metadata": {},
   "outputs": [
    {
     "data": {
      "image/svg+xml": [
       "<?xml version=\"1.0\" encoding=\"UTF-8\" standalone=\"no\"?>\n",
       "<!DOCTYPE svg PUBLIC \"-//W3C//DTD SVG 1.1//EN\"\n",
       " \"http://www.w3.org/Graphics/SVG/1.1/DTD/svg11.dtd\">\n",
       "<!-- Generated by graphviz version 2.38.0 (20140413.2041)\n",
       " -->\n",
       "<!-- Title: %3 Pages: 1 -->\n",
       "<svg width=\"533pt\" height=\"226pt\"\n",
       " viewBox=\"0.00 0.00 532.60 226.00\" xmlns=\"http://www.w3.org/2000/svg\" xmlns:xlink=\"http://www.w3.org/1999/xlink\">\n",
       "<g id=\"graph0\" class=\"graph\" transform=\"scale(1 1) rotate(0) translate(4 222)\">\n",
       "<title>%3</title>\n",
       "<polygon fill=\"white\" stroke=\"none\" points=\"-4,4 -4,-222 528.597,-222 528.597,4 -4,4\"/>\n",
       "<g id=\"clust3\" class=\"cluster\"><title>cluster_nb</title>\n",
       "<polygon fill=\"none\" stroke=\"black\" points=\"84.2705,-136 84.2705,-210 364.271,-210 364.271,-136 84.2705,-136\"/>\n",
       "<text text-anchor=\"middle\" x=\"224.271\" y=\"-194.8\" font-family=\"Times,serif\" font-size=\"14.00\">Computational Essays</text>\n",
       "</g>\n",
       "<!-- narrative -->\n",
       "<g id=\"node1\" class=\"node\"><title>narrative</title>\n",
       "<ellipse fill=\"none\" stroke=\"black\" cx=\"134.271\" cy=\"-162\" rx=\"41.5593\" ry=\"18\"/>\n",
       "<text text-anchor=\"middle\" x=\"134.271\" y=\"-157.8\" font-family=\"Times,serif\" font-size=\"14.00\">narrative</text>\n",
       "</g>\n",
       "<!-- input -->\n",
       "<g id=\"node2\" class=\"node\"><title>input</title>\n",
       "<ellipse fill=\"none\" stroke=\"black\" cx=\"134.271\" cy=\"-90\" rx=\"28.0736\" ry=\"18\"/>\n",
       "<text text-anchor=\"middle\" x=\"134.271\" y=\"-85.8\" font-family=\"Times,serif\" font-size=\"14.00\">input</text>\n",
       "</g>\n",
       "<!-- narrative&#45;&#45;input -->\n",
       "<g id=\"edge1\" class=\"edge\"><title>narrative&#45;&#45;input</title>\n",
       "<path fill=\"none\" stroke=\"black\" d=\"M134.271,-143.697C134.271,-132.846 134.271,-118.917 134.271,-108.104\"/>\n",
       "</g>\n",
       "<!-- notebooks -->\n",
       "<g id=\"node6\" class=\"node\"><title>notebooks</title>\n",
       "<ellipse fill=\"none\" stroke=\"black\" cx=\"230.271\" cy=\"-90\" rx=\"46.4218\" ry=\"18\"/>\n",
       "<text text-anchor=\"middle\" x=\"230.271\" y=\"-85.8\" font-family=\"Times,serif\" font-size=\"14.00\">notebooks</text>\n",
       "</g>\n",
       "<!-- narrative&#45;&#45;notebooks -->\n",
       "<g id=\"edge3\" class=\"edge\"><title>narrative&#45;&#45;notebooks</title>\n",
       "<path fill=\"none\" stroke=\"black\" d=\"M154.63,-146.155C170.701,-134.436 193.044,-118.145 209.277,-106.308\"/>\n",
       "</g>\n",
       "<!-- media -->\n",
       "<g id=\"node3\" class=\"node\"><title>media</title>\n",
       "<ellipse fill=\"none\" stroke=\"black\" cx=\"324.271\" cy=\"-162\" rx=\"31.9306\" ry=\"18\"/>\n",
       "<text text-anchor=\"middle\" x=\"324.271\" y=\"-157.8\" font-family=\"Times,serif\" font-size=\"14.00\">media</text>\n",
       "</g>\n",
       "<!-- output -->\n",
       "<g id=\"node4\" class=\"node\"><title>output</title>\n",
       "<ellipse fill=\"none\" stroke=\"black\" cx=\"327.271\" cy=\"-90\" rx=\"32.9168\" ry=\"18\"/>\n",
       "<text text-anchor=\"middle\" x=\"327.271\" y=\"-85.8\" font-family=\"Times,serif\" font-size=\"14.00\">output</text>\n",
       "</g>\n",
       "<!-- media&#45;&#45;output -->\n",
       "<g id=\"edge2\" class=\"edge\"><title>media&#45;&#45;output</title>\n",
       "<path fill=\"none\" stroke=\"black\" d=\"M325.012,-143.697C325.477,-132.846 326.074,-118.917 326.537,-108.104\"/>\n",
       "</g>\n",
       "<!-- media&#45;&#45;notebooks -->\n",
       "<g id=\"edge4\" class=\"edge\"><title>media&#45;&#45;notebooks</title>\n",
       "<path fill=\"none\" stroke=\"black\" d=\"M305.699,-147.17C289.862,-135.376 267.126,-118.446 250.761,-106.259\"/>\n",
       "</g>\n",
       "<!-- compute -->\n",
       "<g id=\"node5\" class=\"node\"><title>compute</title>\n",
       "<ellipse fill=\"none\" stroke=\"black\" cx=\"234.271\" cy=\"-162\" rx=\"40.6162\" ry=\"18\"/>\n",
       "<text text-anchor=\"middle\" x=\"234.271\" y=\"-157.8\" font-family=\"Times,serif\" font-size=\"14.00\">compute</text>\n",
       "</g>\n",
       "<!-- compute&#45;&#45;notebooks -->\n",
       "<g id=\"edge5\" class=\"edge\"><title>compute&#45;&#45;notebooks</title>\n",
       "<path fill=\"none\" stroke=\"black\" d=\"M233.282,-143.697C232.662,-132.846 231.866,-118.917 231.248,-108.104\"/>\n",
       "</g>\n",
       "<!-- blogs -->\n",
       "<g id=\"node7\" class=\"node\"><title>blogs</title>\n",
       "<ellipse fill=\"none\" stroke=\"black\" cx=\"29.2705\" cy=\"-18\" rx=\"29.0429\" ry=\"18\"/>\n",
       "<text text-anchor=\"middle\" x=\"29.2705\" y=\"-13.8\" font-family=\"Times,serif\" font-size=\"14.00\">blogs</text>\n",
       "</g>\n",
       "<!-- notebooks&#45;&#45;blogs -->\n",
       "<g id=\"edge6\" class=\"edge\"><title>notebooks&#45;&#45;blogs</title>\n",
       "<path fill=\"none\" stroke=\"black\" d=\"M194.275,-78.499C160.989,-68.5058 110.314,-52.5721 67.2705,-36 62.2795,-34.0784 56.9987,-31.8472 52.0127,-29.6461\"/>\n",
       "</g>\n",
       "<!-- pdf -->\n",
       "<g id=\"node8\" class=\"node\"><title>pdf</title>\n",
       "<ellipse fill=\"none\" stroke=\"black\" cx=\"103.271\" cy=\"-18\" rx=\"27\" ry=\"18\"/>\n",
       "<text text-anchor=\"middle\" x=\"103.271\" y=\"-13.8\" font-family=\"Times,serif\" font-size=\"14.00\">pdf</text>\n",
       "</g>\n",
       "<!-- notebooks&#45;&#45;pdf -->\n",
       "<g id=\"edge7\" class=\"edge\"><title>notebooks&#45;&#45;pdf</title>\n",
       "<path fill=\"none\" stroke=\"black\" d=\"M204.57,-74.8345C180.652,-61.6511 145.484,-42.2671 123.504,-30.1522\"/>\n",
       "</g>\n",
       "<!-- source -->\n",
       "<g id=\"node9\" class=\"node\"><title>source</title>\n",
       "<ellipse fill=\"none\" stroke=\"black\" cx=\"181.271\" cy=\"-18\" rx=\"33.3752\" ry=\"18\"/>\n",
       "<text text-anchor=\"middle\" x=\"181.271\" y=\"-13.8\" font-family=\"Times,serif\" font-size=\"14.00\">source</text>\n",
       "</g>\n",
       "<!-- notebooks&#45;&#45;source -->\n",
       "<g id=\"edge8\" class=\"edge\"><title>notebooks&#45;&#45;source</title>\n",
       "<path fill=\"none\" stroke=\"black\" d=\"M218.658,-72.411C210.734,-61.0907 200.295,-46.1782 192.462,-34.9881\"/>\n",
       "</g>\n",
       "<!-- markdown -->\n",
       "<g id=\"node10\" class=\"node\"><title>markdown</title>\n",
       "<ellipse fill=\"none\" stroke=\"black\" cx=\"280.271\" cy=\"-18\" rx=\"47.8582\" ry=\"18\"/>\n",
       "<text text-anchor=\"middle\" x=\"280.271\" y=\"-13.8\" font-family=\"Times,serif\" font-size=\"14.00\">markdown</text>\n",
       "</g>\n",
       "<!-- notebooks&#45;&#45;markdown -->\n",
       "<g id=\"edge9\" class=\"edge\"><title>notebooks&#45;&#45;markdown</title>\n",
       "<path fill=\"none\" stroke=\"black\" d=\"M242.12,-72.411C250.09,-61.2524 260.554,-46.6036 268.506,-35.4699\"/>\n",
       "</g>\n",
       "<!-- html -->\n",
       "<g id=\"node11\" class=\"node\"><title>html</title>\n",
       "<ellipse fill=\"none\" stroke=\"black\" cx=\"373.271\" cy=\"-18\" rx=\"27\" ry=\"18\"/>\n",
       "<text text-anchor=\"middle\" x=\"373.271\" y=\"-13.8\" font-family=\"Times,serif\" font-size=\"14.00\">html</text>\n",
       "</g>\n",
       "<!-- notebooks&#45;&#45;html -->\n",
       "<g id=\"edge10\" class=\"edge\"><title>notebooks&#45;&#45;html</title>\n",
       "<path fill=\"none\" stroke=\"black\" d=\"M257.842,-75.5033C285.275,-62.0749 326.792,-41.7517 351.843,-29.4892\"/>\n",
       "</g>\n",
       "<!-- presentation -->\n",
       "<g id=\"node12\" class=\"node\"><title>presentation</title>\n",
       "<ellipse fill=\"none\" stroke=\"black\" cx=\"471.271\" cy=\"-18\" rx=\"53.1539\" ry=\"18\"/>\n",
       "<text text-anchor=\"middle\" x=\"471.271\" y=\"-13.8\" font-family=\"Times,serif\" font-size=\"14.00\">presentation</text>\n",
       "</g>\n",
       "<!-- notebooks&#45;&#45;presentation -->\n",
       "<g id=\"edge11\" class=\"edge\"><title>notebooks&#45;&#45;presentation</title>\n",
       "<path fill=\"none\" stroke=\"black\" d=\"M265.15,-78.0915C271.821,-76.0412 278.756,-73.9348 285.271,-72 335.483,-57.0879 393.568,-40.669 431.285,-30.1172\"/>\n",
       "</g>\n",
       "</g>\n",
       "</svg>\n"
      ],
      "text/plain": [
       "<graphviz.files.Source at 0x10d913ba8>"
      ]
     },
     "execution_count": 3,
     "metadata": {},
     "output_type": "execute_result"
    }
   ],
   "source": [
    "    g(\"\"\"graph {\n",
    "narrative -- input media -- output {narrative compute media} -- notebooks -- {blogs pdf source markdown html presentation}\n",
    "subgraph cluster_nb {narrative compute media label=\"Computational Essays\"}}\"\"\")"
   ]
  },
  {
   "cell_type": "markdown",
   "metadata": {},
   "source": [
    "    iframe(\"\"\"http://www.wordreference.com/enfr/essay\"\"\")"
   ]
  },
  {
   "cell_type": "markdown",
   "metadata": {},
   "source": [
    "# [Jupyter lab](https://github.com/jupyterlab/jupyterlab) and [notebooks](https://github.com/jupyter/notebook) are applications that allow authors to compose computational essays.\n",
    "\n",
    "* ## [Markdown Cells](http://jupyter-notebook.readthedocs.io/en/stable/examples/Notebook/Working%20With%20Markdown%20Cells.html)\n",
    "* ## [Code Cells](http://jupyter-notebook.readthedocs.io/en/stable/examples/Notebook/Running%20Code.html)\n",
    "* ## [Rich Display](http://ipython.readthedocs.io/en/stable/api/generated/IPython.display.html)\n",
    "\n",
    "    * #### [Jupyter Renderers](https://mybinder.org/v2/gh/jupyterlab/jupyter-renderers/master?urlpath=lab/tree/notebooks)\n",
    "\n",
    "---\n",
    "\n",
    "> Jupyter provides its own key-bindings that make programming feel like a video game.\n",
    "\n",
    "> #### Let's demonstrate some examples."
   ]
  },
  {
   "cell_type": "markdown",
   "metadata": {},
   "source": [
    "# Notebooks are saved as data."
   ]
  },
  {
   "cell_type": "code",
   "execution_count": 9,
   "metadata": {},
   "outputs": [],
   "source": [
    "    import json\n",
    "    with open('interactive.ipynb') as file:\n",
    "        assert json.load(file)"
   ]
  },
  {
   "cell_type": "markdown",
   "metadata": {},
   "source": [
    "## [ipywidgets](https://ipywidgets.readthedocs.io/)\n",
    "\n",
    "We import [a widget from our sample notebook project](test_notebook.ipynb#ipywidget). "
   ]
  },
  {
   "cell_type": "code",
   "execution_count": 10,
   "metadata": {},
   "outputs": [
    {
     "data": {
      "application/vnd.jupyter.widget-view+json": {
       "model_id": "b7dfbc033ec84e6fbda6622dc5574768",
       "version_major": 2,
       "version_minor": 0
      },
      "text/plain": [
       "interactive(children=(IntSlider(value=10, description='a', max=30, min=-10), Output()), _dom_classes=('widget-…"
      ]
     },
     "metadata": {},
     "output_type": "display_data"
    }
   ],
   "source": [
    "    with Notebook():\n",
    "        import test_notebook as nb"
   ]
  },
  {
   "cell_type": "markdown",
   "metadata": {},
   "source": [
    "# Static documents with [nbconvert](http://nbconvert.readthedocs.io/en/latest/config_options.html)\n",
    "\n",
    "Uses [jinja2](http://jinja.pocoo.org/docs/2.10/api/) to template __markdown__ and __code__ cells into other string formats."
   ]
  },
  {
   "cell_type": "markdown",
   "metadata": {},
   "source": [
    "    #The exclamation point runs a command line statement.\n",
    "    !jupyter nbconvert --to html interactive.ipynb"
   ]
  },
  {
   "cell_type": "markdown",
   "metadata": {},
   "source": [
    "    iframe('interactive.html')"
   ]
  },
  {
   "cell_type": "markdown",
   "metadata": {},
   "source": [
    "## Readability always counts!"
   ]
  },
  {
   "cell_type": "markdown",
   "metadata": {},
   "source": [
    "    import this"
   ]
  },
  {
   "cell_type": "markdown",
   "metadata": {},
   "source": [
    "---\n",
    "---\n",
    "\n",
    "> # _Sometimes I think the only universal in the computing field is the fetch-execute cycle._\n",
    "> - [Alan Perlis](http://www.cs.yale.edu/homes/perlis-alan/quotes.html)"
   ]
  },
  {
   "cell_type": "code",
   "execution_count": null,
   "metadata": {},
   "outputs": [],
   "source": [
    "g(\"\"\"digraph {\n",
    "        Literacy -> {\n",
    "            Textual Computational\n",
    "        }\n",
    "        Textual -> {Markdown Latex}\n",
    "        subgraph cluster_repl {\n",
    "            label=\"REPL\"\n",
    "            read -> evaluate -> print print -> read [label=\"loop\\n[interact]\"]}\n",
    "        Computational->read\n",
    "        evaluate -> test read -> documentation print -> display\n",
    "        display -> {HTML Images Videos Sound Maps \"...\"}}\"\"\")"
   ]
  },
  {
   "cell_type": "markdown",
   "metadata": {},
   "source": [
    "> # _... surely nobody wants to admit writing an illiterate program._\n",
    "\n",
    "## [Donald Knuth](https://en.wikipedia.org/wiki/Donald_Knuth) - [Literate Programming](http://roxygen.org/knuth-literate-programming.pdf)\n",
    "\n",
    "---\n",
    "\n",
    "# A good computational essay\n",
    "\n",
    "* ## Includes a narrative with clear communication.\n",
    "* ## Focuses on human readability and machine reproducibility.\n",
    "* ## Will contain readable code when possible.\n",
    "* ## May have many authors with different strengths.\n",
    "* ## Does not often value code."
   ]
  },
  {
   "cell_type": "markdown",
   "metadata": {},
   "source": [
    "<hr/><hr/><hr/><hr/><hr/><hr/>\n",
    "\n",
    "# Hypothesis testing and the scientific method\n",
    "\n",
    "1. ### Define a question\n",
    "1. ### Gather information and resources\n",
    "1. ### Form an explanatory hypothesis\n",
    "1. ### Test the hypothesis by performing an experiment and collecting data in a reproducible manner\n",
    "1. ### Analyze the data\n",
    "1. ### Interpret the data and draw conclusions that serve as a starting point for new hypothesis\n",
    "1. ### Publish results\n",
    "1. ### Retest"
   ]
  },
  {
   "cell_type": "code",
   "execution_count": null,
   "metadata": {},
   "outputs": [],
   "source": [
    "λ.str.split().map(λ.IPython.display.YouTubeVideo(width=400, height=300, autostart=30)).list()[star(λ.IPython.display.display())](\"\"\"mT8BkceFU40 7YAu0-1l4JQ\"\"\")"
   ]
  },
  {
   "cell_type": "markdown",
   "metadata": {},
   "source": [
    "# Notebooks are commonly ~~re~~used to test ideas [computational hypotheses]\n",
    "\n",
    "Failing doesn't hurt as much."
   ]
  },
  {
   "cell_type": "markdown",
   "metadata": {},
   "source": [
    "<hr/><hr/><hr/><hr/><hr/><hr/><hr/><hr/><hr/><hr/><hr/><hr/><hr/><hr/><hr/>\n",
    "\n",
    "## Audience Poll?\n",
    "\n",
    "* ### Who uses notebooks to test ideas or data?\n",
    "* ### Who rewrites their notebooks in actual source directories.\n",
    "* ### Who writes notebooks with the intent of using them again?\n",
    "\n",
    "<hr/><hr/><hr/><hr/><hr/><hr/><hr/><hr/><hr/><hr/><hr/><hr/><hr/><hr/><hr/>"
   ]
  },
  {
   "cell_type": "markdown",
   "metadata": {},
   "source": [
    "https://github.com/activityhistory/jupyter_on_github\n",
    "https://blog.jupyter.org/we-analyzed-1-million-jupyter-notebooks-now-you-can-too-guest-post-8116a964b536"
   ]
  },
  {
   "cell_type": "markdown",
   "metadata": {},
   "source": [
    "---\n",
    "\n",
    "# The scientific method in computational essays.\n",
    "\n",
    "* ## Is read before it's computed.\n",
    "* ## Will present more information than code and essays alone.\n",
    "* ## Includes a narrative with clear communication.\n",
    "* ## Should be useful in a conversation\n",
    "* ## Focuses on human readability and machine reproducibility.\n",
    "* ## *Will restart and run all*.\n",
    "* ## *Has an expiration date.*"
   ]
  },
  {
   "cell_type": "markdown",
   "metadata": {},
   "source": [
    "## [Notebooks 🤛](notebooks.ipynb) 🤖 [🤜 Testing](testing.ipynb)"
   ]
  },
  {
   "cell_type": "markdown",
   "metadata": {},
   "source": [
    "---\n",
    "---\n",
    "\n",
    "# Extras\n",
    "\n",
    "## The best styleguide for computational essays.\n",
    "\n",
    "### [Paco Nathan - _What we learned teaching with notebooks._](http://nbviewer.jupyter.org/github/jupyterday-atlanta-2016/oriole_jupyterday_atl/blob/master/oriole_talk.ipynb#What-we-learned-about-teaching-with-notebooks)"
   ]
  }
 ],
 "metadata": {
  "kernelspec": {
   "display_name": "p6",
   "language": "python",
   "name": "other-env"
  },
  "language_info": {
   "codemirror_mode": {
    "name": "ipython",
    "version": 3
   },
   "file_extension": ".py",
   "mimetype": "text/x-python",
   "name": "python",
   "nbconvert_exporter": "python",
   "pygments_lexer": "ipython3",
   "version": "3.6.3"
  }
 },
 "nbformat": 4,
 "nbformat_minor": 2
}
