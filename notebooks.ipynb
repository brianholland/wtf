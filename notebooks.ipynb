{
 "cells": [
  {
   "cell_type": "markdown",
   "metadata": {},
   "source": [
    "# Notebooks"
   ]
  },
  {
   "cell_type": "code",
   "execution_count": 3,
   "metadata": {},
   "outputs": [],
   "source": [
    "from utils import *"
   ]
  },
  {
   "cell_type": "code",
   "execution_count": 4,
   "metadata": {},
   "outputs": [
    {
     "data": {
      "text/html": [
       "\n",
       "        <iframe\n",
       "            width=\"600\"\n",
       "            height=\"400\"\n",
       "            src=\"https://en.m.wikipedia.org/wiki/Lab_notebook\"\n",
       "            frameborder=\"0\"\n",
       "            allowfullscreen\n",
       "        ></iframe>\n",
       "        "
      ],
      "text/plain": [
       "<IPython.lib.display.IFrame at 0x10cf57b70>"
      ]
     },
     "execution_count": 4,
     "metadata": {},
     "output_type": "execute_result"
    }
   ],
   "source": [
    "iframe(\"https://en.m.wikipedia.org/wiki/Lab_notebook\")"
   ]
  },
  {
   "cell_type": "markdown",
   "metadata": {},
   "source": [
    "* https://www.quora.com/Where-can-I-find-pictures-of-famous-scientists-lab-notebooks\n",
    "* https://www.fromthegrapevine.com/lifestyle/famous-people-who-kept-journal-albert-einstein-marie-curie-mark-twain-charles-darwin\n",
    "\n",
    "* http://www.masshist.org/thomasjeffersonpapers/doc?id=garden_1\n",
    "* http://www.clerkmaxwellfoundation.org/Maxwell_and_TaitSMC24_1_2002.pdf\n",
    "* http://fsu.digital.flvc.org/islandora/object/fsu%3A641/datastream/OBJ/view/Dissertation_of_Paul_A__M__Dirac_for_Ph_D__degree.pdf"
   ]
  },
  {
   "cell_type": "code",
   "execution_count": 5,
   "metadata": {},
   "outputs": [
    {
     "data": {
      "text/html": [
       "\n",
       "        <iframe\n",
       "            width=\"600\"\n",
       "            height=\"400\"\n",
       "            src=\"http://www.openculture.com/2016/03/3900-pages-of-paul-klees-personal-notebooks-are-now-online.html\"\n",
       "            frameborder=\"0\"\n",
       "            allowfullscreen\n",
       "        ></iframe>\n",
       "        "
      ],
      "text/plain": [
       "<IPython.lib.display.IFrame at 0x10cf6c048>"
      ]
     },
     "execution_count": 5,
     "metadata": {},
     "output_type": "execute_result"
    }
   ],
   "source": [
    "iframe(\"\"\"http://www.openculture.com/2016/03/3900-pages-of-paul-klees-personal-notebooks-are-now-online.html\"\"\")"
   ]
  },
  {
   "cell_type": "code",
   "execution_count": 8,
   "metadata": {},
   "outputs": [
    {
     "data": {
      "text/html": [
       "\n",
       "        <iframe\n",
       "            width=\"600\"\n",
       "            height=\"400\"\n",
       "            src=\"https://www.high.org/exhibition/basquiat-notebooks/\"\n",
       "            frameborder=\"0\"\n",
       "            allowfullscreen\n",
       "        ></iframe>\n",
       "        "
      ],
      "text/plain": [
       "<IPython.lib.display.IFrame at 0x10cf6c358>"
      ]
     },
     "execution_count": 8,
     "metadata": {},
     "output_type": "execute_result"
    }
   ],
   "source": [
    "iframe(\"https://www.high.org/exhibition/basquiat-notebooks/\")"
   ]
  },
  {
   "cell_type": "markdown",
   "metadata": {},
   "source": [
    "# Modern Notebooks\n",
    "\n"
   ]
  },
  {
   "cell_type": "code",
   "execution_count": 22,
   "metadata": {},
   "outputs": [
    {
     "data": {
      "text/html": [
       "\n",
       "        <iframe\n",
       "            width=\"600\"\n",
       "            height=\"400\"\n",
       "            src=\"https://en.m.wikipedia.org/wiki/VisiCalc\"\n",
       "            frameborder=\"0\"\n",
       "            allowfullscreen\n",
       "        ></iframe>\n",
       "        "
      ],
      "text/plain": [
       "<IPython.lib.display.IFrame at 0x113ee7438>"
      ]
     },
     "execution_count": 22,
     "metadata": {},
     "output_type": "execute_result"
    }
   ],
   "source": [
    "iframe(\"\"\"https://en.m.wikipedia.org/wiki/VisiCalc\"\"\")"
   ]
  },
  {
   "cell_type": "markdown",
   "metadata": {},
   "source": [
    "https://github.com/jupyter/jupyter/wiki/A-gallery-of-interesting-Jupyter-Notebooks#reproducible-academic-publications"
   ]
  },
  {
   "cell_type": "code",
   "execution_count": 9,
   "metadata": {},
   "outputs": [
    {
     "data": {
      "text/html": [
       "\n",
       "        <iframe\n",
       "            width=\"600\"\n",
       "            height=\"400\"\n",
       "            src=\"http://reference.wolfram.com/language/tutorial/UsingANotebookInterface.html\"\n",
       "            frameborder=\"0\"\n",
       "            allowfullscreen\n",
       "        ></iframe>\n",
       "        "
      ],
      "text/plain": [
       "<IPython.lib.display.IFrame at 0x10cf6c400>"
      ]
     },
     "execution_count": 9,
     "metadata": {},
     "output_type": "execute_result"
    }
   ],
   "source": [
    "iframe(\"\"\"http://reference.wolfram.com/language/tutorial/UsingANotebookInterface.html\"\"\")"
   ]
  },
  {
   "cell_type": "markdown",
   "metadata": {},
   "source": [
    "https://github.com/jupyter/jupyter/wiki/A-gallery-of-interesting-Jupyter-Notebooks#reproducible-academic-publications"
   ]
  },
  {
   "cell_type": "code",
   "execution_count": 12,
   "metadata": {},
   "outputs": [
    {
     "data": {
      "text/html": [
       "\n",
       "        <iframe\n",
       "            width=\"600\"\n",
       "            height=\"400\"\n",
       "            src=\"https://cocalc.com/\"\n",
       "            frameborder=\"0\"\n",
       "            allowfullscreen\n",
       "        ></iframe>\n",
       "        "
      ],
      "text/plain": [
       "<IPython.lib.display.IFrame at 0x10c832940>"
      ]
     },
     "execution_count": 12,
     "metadata": {},
     "output_type": "execute_result"
    }
   ],
   "source": [
    "iframe(\"\"\"https://cocalc.com/\"\"\")"
   ]
  },
  {
   "cell_type": "code",
   "execution_count": 10,
   "metadata": {},
   "outputs": [
    {
     "data": {
      "text/html": [
       "\n",
       "        <iframe\n",
       "            width=\"600\"\n",
       "            height=\"400\"\n",
       "            src=\"https://zeppelin.apache.org/\"\n",
       "            frameborder=\"0\"\n",
       "            allowfullscreen\n",
       "        ></iframe>\n",
       "        "
      ],
      "text/plain": [
       "<IPython.lib.display.IFrame at 0x10cf6c438>"
      ]
     },
     "execution_count": 10,
     "metadata": {},
     "output_type": "execute_result"
    }
   ],
   "source": [
    "iframe(\"\"\"https://zeppelin.apache.org/\"\"\")"
   ]
  },
  {
   "cell_type": "code",
   "execution_count": 13,
   "metadata": {},
   "outputs": [
    {
     "data": {
      "text/html": [
       "\n",
       "        <iframe\n",
       "            width=\"600\"\n",
       "            height=\"400\"\n",
       "            src=\"http://jupyter.org/\"\n",
       "            frameborder=\"0\"\n",
       "            allowfullscreen\n",
       "        ></iframe>\n",
       "        "
      ],
      "text/plain": [
       "<IPython.lib.display.IFrame at 0x10cf6c780>"
      ]
     },
     "execution_count": 13,
     "metadata": {},
     "output_type": "execute_result"
    }
   ],
   "source": [
    "iframe(\"\"\"http://jupyter.org/\"\"\")"
   ]
  },
  {
   "cell_type": "code",
   "execution_count": 23,
   "metadata": {},
   "outputs": [
    {
     "data": {
      "text/html": [
       "<div>\n",
       "<style scoped>\n",
       "    .dataframe tbody tr th:only-of-type {\n",
       "        vertical-align: middle;\n",
       "    }\n",
       "\n",
       "    .dataframe tbody tr th {\n",
       "        vertical-align: top;\n",
       "    }\n",
       "\n",
       "    .dataframe thead th {\n",
       "        text-align: right;\n",
       "    }\n",
       "</style>\n",
       "<table border=\"1\" class=\"dataframe\">\n",
       "  <thead>\n",
       "    <tr style=\"text-align: right;\">\n",
       "      <th></th>\n",
       "      <th>Project</th>\n",
       "      <th>Recipients</th>\n",
       "    </tr>\n",
       "    <tr>\n",
       "      <th>Year</th>\n",
       "      <th></th>\n",
       "      <th></th>\n",
       "    </tr>\n",
       "  </thead>\n",
       "  <tbody>\n",
       "    <tr>\n",
       "      <th>2017</th>\n",
       "      <td>Project Jupyter</td>\n",
       "      <td>Fernando Pérez, Brian E. Granger, Min Ragan-Ke...</td>\n",
       "    </tr>\n",
       "    <tr>\n",
       "      <th>2016</th>\n",
       "      <td>Andrew File System</td>\n",
       "      <td>John H. Howard, Michael L. Kazar, David A. Nic...</td>\n",
       "    </tr>\n",
       "    <tr>\n",
       "      <th>2015</th>\n",
       "      <td>GCC</td>\n",
       "      <td>Richard Stallman</td>\n",
       "    </tr>\n",
       "    <tr>\n",
       "      <th>2014</th>\n",
       "      <td>Mach</td>\n",
       "      <td>Rick Rashid, Avie Tevanian</td>\n",
       "    </tr>\n",
       "    <tr>\n",
       "      <th>2013</th>\n",
       "      <td>Coq</td>\n",
       "      <td>Thierry Coquand, Gérard Pierre Huet, Christine...</td>\n",
       "    </tr>\n",
       "    <tr>\n",
       "      <th>2012</th>\n",
       "      <td>LLVM</td>\n",
       "      <td>Vikram S. Adve, Evan Cheng and Chris Lattner</td>\n",
       "    </tr>\n",
       "    <tr>\n",
       "      <th>2011</th>\n",
       "      <td>Eclipse</td>\n",
       "      <td>John Wiegand, Dave Thomson, Gregory Adams, Phi...</td>\n",
       "    </tr>\n",
       "    <tr>\n",
       "      <th>2010</th>\n",
       "      <td>GroupLens Collaborative Filtering Recommender ...</td>\n",
       "      <td>Peter Bergstrom, Lee R. Gordon, Jonathan L. He...</td>\n",
       "    </tr>\n",
       "    <tr>\n",
       "      <th>2009</th>\n",
       "      <td>VMware Workstation for Linux 1.0</td>\n",
       "      <td>Edouard Bugnion, Scott Devine, Mendel Rosenblu...</td>\n",
       "    </tr>\n",
       "    <tr>\n",
       "      <th>2008</th>\n",
       "      <td>Gamma Parallel Database System</td>\n",
       "      <td>David DeWitt, Robert Gerber, Murali Krishna, D...</td>\n",
       "    </tr>\n",
       "    <tr>\n",
       "      <th>2007</th>\n",
       "      <td>Statemate</td>\n",
       "      <td>David Harel, Hagi Lachover, Amnon Naamad, Amir...</td>\n",
       "    </tr>\n",
       "    <tr>\n",
       "      <th>2006</th>\n",
       "      <td>Eiffel[2]</td>\n",
       "      <td>Bertrand Meyer</td>\n",
       "    </tr>\n",
       "    <tr>\n",
       "      <th>2005</th>\n",
       "      <td>The Boyer-Moore Theorem Prover</td>\n",
       "      <td>Robert S. Boyer, Matt Kaufmann, J Strother Moore</td>\n",
       "    </tr>\n",
       "    <tr>\n",
       "      <th>2004</th>\n",
       "      <td>Secure Network Programming</td>\n",
       "      <td>Raghuram Bindignavle, Simon S. Lam, Shaowen Su...</td>\n",
       "    </tr>\n",
       "    <tr>\n",
       "      <th>2003</th>\n",
       "      <td>make</td>\n",
       "      <td>Stuart Feldman</td>\n",
       "    </tr>\n",
       "    <tr>\n",
       "      <th>2002</th>\n",
       "      <td>Java</td>\n",
       "      <td>James Gosling</td>\n",
       "    </tr>\n",
       "    <tr>\n",
       "      <th>2001</th>\n",
       "      <td>SPIN model checker</td>\n",
       "      <td>Gerard Holzmann</td>\n",
       "    </tr>\n",
       "    <tr>\n",
       "      <th>1999</th>\n",
       "      <td>The Apache Group</td>\n",
       "      <td>Brian Behlendorf, Roy Fielding, Rob Hartill, D...</td>\n",
       "    </tr>\n",
       "    <tr>\n",
       "      <th>1998</th>\n",
       "      <td>S</td>\n",
       "      <td>John Chambers</td>\n",
       "    </tr>\n",
       "    <tr>\n",
       "      <th>1997</th>\n",
       "      <td>Tcl/Tk</td>\n",
       "      <td>John Ousterhout</td>\n",
       "    </tr>\n",
       "    <tr>\n",
       "      <th>1996</th>\n",
       "      <td>NCSA Mosaic</td>\n",
       "      <td>Marc Andreessen, Eric Bina</td>\n",
       "    </tr>\n",
       "    <tr>\n",
       "      <th>1995</th>\n",
       "      <td>World Wide Web</td>\n",
       "      <td>Tim Berners-Lee, Robert Cailliau</td>\n",
       "    </tr>\n",
       "    <tr>\n",
       "      <th>1994</th>\n",
       "      <td>Remote Procedure Call</td>\n",
       "      <td>Andrew Birrell, Bruce Nelson</td>\n",
       "    </tr>\n",
       "    <tr>\n",
       "      <th>1993</th>\n",
       "      <td>Sketchpad</td>\n",
       "      <td>Ivan Sutherland</td>\n",
       "    </tr>\n",
       "    <tr>\n",
       "      <th>1992</th>\n",
       "      <td>Interlisp</td>\n",
       "      <td>Daniel Bobrow, Richard R. Burton, L. Peter Deu...</td>\n",
       "    </tr>\n",
       "    <tr>\n",
       "      <th>1991</th>\n",
       "      <td>TCP/IP</td>\n",
       "      <td>Vinton G. Cerf, Robert E. Kahn</td>\n",
       "    </tr>\n",
       "    <tr>\n",
       "      <th>1990</th>\n",
       "      <td>NLS</td>\n",
       "      <td>Douglas C. Engelbart, William English, Jeff Ru...</td>\n",
       "    </tr>\n",
       "    <tr>\n",
       "      <th>1989</th>\n",
       "      <td>PostScript[3]</td>\n",
       "      <td>Douglas K. Brotz, Charles M. Geschke, William ...</td>\n",
       "    </tr>\n",
       "    <tr>\n",
       "      <th>1988</th>\n",
       "      <td>INGRES</td>\n",
       "      <td>Gerald Held, Michael Stonebraker, Eugene Wong</td>\n",
       "    </tr>\n",
       "    <tr>\n",
       "      <th>1988</th>\n",
       "      <td>System R</td>\n",
       "      <td>Donald Chamberlin, Jim Gray, Raymond Lorie, Gi...</td>\n",
       "    </tr>\n",
       "    <tr>\n",
       "      <th>1987</th>\n",
       "      <td>Smalltalk</td>\n",
       "      <td>Adele Goldberg, Daniel Henry Holmes Ingalls, J...</td>\n",
       "    </tr>\n",
       "    <tr>\n",
       "      <th>1986</th>\n",
       "      <td>TeX</td>\n",
       "      <td>Donald E. Knuth</td>\n",
       "    </tr>\n",
       "    <tr>\n",
       "      <th>1985</th>\n",
       "      <td>VisiCalc</td>\n",
       "      <td>Dan Bricklin, Bob Frankston</td>\n",
       "    </tr>\n",
       "    <tr>\n",
       "      <th>1984</th>\n",
       "      <td>Xerox Alto</td>\n",
       "      <td>Butler W. Lampson, Robert Taylor, Charles P. T...</td>\n",
       "    </tr>\n",
       "    <tr>\n",
       "      <th>1983</th>\n",
       "      <td>UNIX</td>\n",
       "      <td>Dennis Ritchie, Ken Thompson</td>\n",
       "    </tr>\n",
       "  </tbody>\n",
       "</table>\n",
       "</div>"
      ],
      "text/plain": [
       "                                                Project  \\\n",
       "Year                                                      \n",
       "2017                                    Project Jupyter   \n",
       "2016                                 Andrew File System   \n",
       "2015                                                GCC   \n",
       "2014                                               Mach   \n",
       "2013                                                Coq   \n",
       "2012                                               LLVM   \n",
       "2011                                            Eclipse   \n",
       "2010  GroupLens Collaborative Filtering Recommender ...   \n",
       "2009                   VMware Workstation for Linux 1.0   \n",
       "2008                     Gamma Parallel Database System   \n",
       "2007                                          Statemate   \n",
       "2006                                          Eiffel[2]   \n",
       "2005                     The Boyer-Moore Theorem Prover   \n",
       "2004                         Secure Network Programming   \n",
       "2003                                               make   \n",
       "2002                                               Java   \n",
       "2001                                 SPIN model checker   \n",
       "1999                                   The Apache Group   \n",
       "1998                                                  S   \n",
       "1997                                             Tcl/Tk   \n",
       "1996                                        NCSA Mosaic   \n",
       "1995                                     World Wide Web   \n",
       "1994                              Remote Procedure Call   \n",
       "1993                                          Sketchpad   \n",
       "1992                                          Interlisp   \n",
       "1991                                             TCP/IP   \n",
       "1990                                                NLS   \n",
       "1989                                      PostScript[3]   \n",
       "1988                                             INGRES   \n",
       "1988                                           System R   \n",
       "1987                                          Smalltalk   \n",
       "1986                                                TeX   \n",
       "1985                                           VisiCalc   \n",
       "1984                                         Xerox Alto   \n",
       "1983                                               UNIX   \n",
       "\n",
       "                                             Recipients  \n",
       "Year                                                     \n",
       "2017  Fernando Pérez, Brian E. Granger, Min Ragan-Ke...  \n",
       "2016  John H. Howard, Michael L. Kazar, David A. Nic...  \n",
       "2015                                   Richard Stallman  \n",
       "2014                         Rick Rashid, Avie Tevanian  \n",
       "2013  Thierry Coquand, Gérard Pierre Huet, Christine...  \n",
       "2012       Vikram S. Adve, Evan Cheng and Chris Lattner  \n",
       "2011  John Wiegand, Dave Thomson, Gregory Adams, Phi...  \n",
       "2010  Peter Bergstrom, Lee R. Gordon, Jonathan L. He...  \n",
       "2009  Edouard Bugnion, Scott Devine, Mendel Rosenblu...  \n",
       "2008  David DeWitt, Robert Gerber, Murali Krishna, D...  \n",
       "2007  David Harel, Hagi Lachover, Amnon Naamad, Amir...  \n",
       "2006                                     Bertrand Meyer  \n",
       "2005   Robert S. Boyer, Matt Kaufmann, J Strother Moore  \n",
       "2004  Raghuram Bindignavle, Simon S. Lam, Shaowen Su...  \n",
       "2003                                     Stuart Feldman  \n",
       "2002                                      James Gosling  \n",
       "2001                                    Gerard Holzmann  \n",
       "1999  Brian Behlendorf, Roy Fielding, Rob Hartill, D...  \n",
       "1998                                      John Chambers  \n",
       "1997                                    John Ousterhout  \n",
       "1996                         Marc Andreessen, Eric Bina  \n",
       "1995                   Tim Berners-Lee, Robert Cailliau  \n",
       "1994                       Andrew Birrell, Bruce Nelson  \n",
       "1993                                    Ivan Sutherland  \n",
       "1992  Daniel Bobrow, Richard R. Burton, L. Peter Deu...  \n",
       "1991                     Vinton G. Cerf, Robert E. Kahn  \n",
       "1990  Douglas C. Engelbart, William English, Jeff Ru...  \n",
       "1989  Douglas K. Brotz, Charles M. Geschke, William ...  \n",
       "1988      Gerald Held, Michael Stonebraker, Eugene Wong  \n",
       "1988  Donald Chamberlin, Jim Gray, Raymond Lorie, Gi...  \n",
       "1987  Adele Goldberg, Daniel Henry Holmes Ingalls, J...  \n",
       "1986                                    Donald E. Knuth  \n",
       "1985                        Dan Bricklin, Bob Frankston  \n",
       "1984  Butler W. Lampson, Robert Taylor, Charles P. T...  \n",
       "1983                       Dennis Ritchie, Ken Thompson  "
      ]
     },
     "execution_count": 23,
     "metadata": {},
     "output_type": "execute_result"
    }
   ],
   "source": [
    "acm_awards = λ.pandas.read_html().first()(\"\"\"https://en.wikipedia.org/wiki/ACM_Software_System_Award\"\"\").pipe(\n",
    "    lambda df: df.rename(columns=dict(zip(range(len(df.columns)), df.iloc[0]))).iloc[1:]\n",
    ").set_index('Year'); acm_awards"
   ]
  },
  {
   "cell_type": "code",
   "execution_count": 15,
   "metadata": {},
   "outputs": [
    {
     "data": {
      "text/html": [
       "\n",
       "        <iframe\n",
       "            width=\"600\"\n",
       "            height=\"400\"\n",
       "            src=\"http://nbviewer.jupyter.org/github/robertodealmeida/notebooks/blob/master/scientific_american/Scientific%20American%20graph.ipynb\"\n",
       "            frameborder=\"0\"\n",
       "            allowfullscreen\n",
       "        ></iframe>\n",
       "        "
      ],
      "text/plain": [
       "<IPython.lib.display.IFrame at 0x10ef98a20>"
      ]
     },
     "execution_count": 15,
     "metadata": {},
     "output_type": "execute_result"
    }
   ],
   "source": [
    "iframe(\"http://nbviewer.jupyter.org/github/robertodealmeida/notebooks/blob/master/scientific_american/Scientific%20American%20graph.ipynb\")"
   ]
  },
  {
   "cell_type": "code",
   "execution_count": 16,
   "metadata": {},
   "outputs": [
    {
     "data": {
      "text/html": [
       "\n",
       "        <iframe\n",
       "            width=\"600\"\n",
       "            height=\"400\"\n",
       "            src=\"https://www.theatlantic.com/science/archive/2018/04/the-scientific-paper-is-obsolete/556676/\"\n",
       "            frameborder=\"0\"\n",
       "            allowfullscreen\n",
       "        ></iframe>\n",
       "        "
      ],
      "text/plain": [
       "<IPython.lib.display.IFrame at 0x10ef98a90>"
      ]
     },
     "execution_count": 16,
     "metadata": {},
     "output_type": "execute_result"
    }
   ],
   "source": [
    "iframe(\"\"\"https://www.theatlantic.com/science/archive/2018/04/the-scientific-paper-is-obsolete/556676/\"\"\")"
   ]
  },
  {
   "cell_type": "markdown",
   "metadata": {},
   "source": [
    "# Conclusion\n",
    "\n",
    "Why are notebooks goods?\n",
    "\n",
    "What could make notebooks better?"
   ]
  },
  {
   "cell_type": "markdown",
   "metadata": {},
   "source": [
    "## [Readme 🤛](readme.ipynb) 🤖 [🤜 Interactivity](interactive.ipynb)"
   ]
  }
 ],
 "metadata": {
  "kernelspec": {
   "display_name": "p6",
   "language": "python",
   "name": "other-env"
  },
  "language_info": {
   "codemirror_mode": {
    "name": "ipython",
    "version": 3
   },
   "file_extension": ".py",
   "mimetype": "text/x-python",
   "name": "python",
   "nbconvert_exporter": "python",
   "pygments_lexer": "ipython3",
   "version": "3.6.3"
  }
 },
 "nbformat": 4,
 "nbformat_minor": 2
}
